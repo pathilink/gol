{
 "cells": [
  {
   "cell_type": "markdown",
   "metadata": {},
   "source": [
    "# <font color='FF6F1F'>Case Gol</font>\n",
    "\n",
    "## <font color='FF6F1F'>Respostas às perguntas de interesse</font>"
   ]
  },
  {
   "cell_type": "markdown",
   "metadata": {},
   "source": [
    "# Tabela de conteúdo\n",
    "\n",
    "[1. Informação básica](#1.-Informação-básica)\n",
    "\n",
    "[2. Bibliotecas](#2.-Bibliotecas)\n",
    "\n",
    "[3. Dados](#3.-Dados)\n",
    "\n",
    "[4. Perguntas](#4.-Perguntas)\n",
    "\n",
    "* [1. Faça um ranking para o número total de PAX por dia da semana.](#1.-Faça-um-ranking-para-o-número-total-de-PAX-por-dia-da-semana.)\n",
    "\n",
    "* [2. Qual a correlação de sábado e domingo somados com o total de RPK?](#2.-Qual-a-correlação-de-sábado-e-domingo-somados-com-o-total-de-RPK?)\n",
    "\n",
    "* [3. Qual a média de ‘Monetário’ por mês por Canal? E a mediana?](#3.-Qual-a-média-de-‘Monetário’-por-mês-por-Canal?-E-a-mediana?)\n",
    "\n",
    "* [4. Crie um forecast de PAX por ‘Local de Venda’ para os próximos 15 dias a contar da última data de venda.](#4.-Crie-um-forecast-de-PAX-por-‘Local-de-Venda’-para-os-próximos-15-dias-a-contar-da-última-data-de-venda.)\n",
    "\n",
    "* [5. Supondo que você precisa gerar um estudo para a área responsável, com base em qualquer modelo ou premissa, qual ‘Local de Venda’ você considera mais crítico. Por quê?](#5.-Supondo-que-você-precisa-gerar-um-estudo-para-a-área-responsável,-com-base-em-qualquer-modelo-ou-premissa,-qual-‘Local-de-Venda’-você-considera-mais-crítico.-Por-quê?)\n",
    "\n",
    "* [6. Criar modelo relacionando o comportamento de venda com variáveis não apresentadas nos dados (Ex: PIB, Dolar, etc.)](#6.-Criar-modelo-relacionando-o-comportamento-de-venda-com-variáveis-não-apresentadas-nos-dados-(Ex:-PIB,-Dolar,-etc.))\n"
   ]
  },
  {
   "cell_type": "markdown",
   "metadata": {},
   "source": [
    "## 1. Informação básica\n",
    "[Retorna à Tabela de conteúdo](#Tabela-de-conteúdo)"
   ]
  },
  {
   "cell_type": "markdown",
   "metadata": {},
   "source": [
    "**Fonte:** Gol\n",
    "\n",
    "**Período em análise:** de 2016-11-01 a 2017-04-01.\n",
    "\n",
    "**Descrição das colunas:**\n",
    "\n",
    "| Variável | Descrição | Tipo |  \n",
    "|:---|:---|:---|\n",
    "| Data Venda | Data (AAAA-MM-DD) | Data |\n",
    "| Canal de Venda | Canais de venda. | Nominal |\n",
    "| Local de Venda | Locais de venda. | Nominal |\n",
    "| PAX | Total de passageiros. | Discreto |\n",
    "| Monetário Vendido | Valores da venda. | Contínuo |\n",
    "| RPK | Indicador diretamente relacionado com o número de PAX. | Discreto |"
   ]
  },
  {
   "cell_type": "markdown",
   "metadata": {},
   "source": [
    "## 2. Bibliotecas\n",
    "[Retorna à Tabela de conteúdo](#Tabela-de-conteúdo)"
   ]
  },
  {
   "cell_type": "code",
   "execution_count": 1,
   "metadata": {},
   "outputs": [],
   "source": [
    "import pandas as pd # dataframe\n",
    "import numpy as np # numeric\n",
    "import seaborn as sns # graph\n",
    "from matplotlib import pyplot as plt # plot\n",
    "from pylab import rcParams # figsize"
   ]
  },
  {
   "cell_type": "markdown",
   "metadata": {},
   "source": [
    "## 3. Dados\n",
    "[Retorna à Tabela de conteúdo](#Tabela-de-conteúdo)"
   ]
  },
  {
   "cell_type": "code",
   "execution_count": 2,
   "metadata": {},
   "outputs": [],
   "source": [
    "# suprime a notação científica\n",
    "pd.set_option('display.float_format', lambda x: '%.4f' % x)"
   ]
  },
  {
   "cell_type": "code",
   "execution_count": 3,
   "metadata": {},
   "outputs": [],
   "source": [
    "df = pd.read_excel('case_analytics-ds.xlsx', sheet_name='Dados')"
   ]
  },
  {
   "cell_type": "code",
   "execution_count": 4,
   "metadata": {},
   "outputs": [
    {
     "data": {
      "text/html": [
       "<div>\n",
       "<style scoped>\n",
       "    .dataframe tbody tr th:only-of-type {\n",
       "        vertical-align: middle;\n",
       "    }\n",
       "\n",
       "    .dataframe tbody tr th {\n",
       "        vertical-align: top;\n",
       "    }\n",
       "\n",
       "    .dataframe thead th {\n",
       "        text-align: right;\n",
       "    }\n",
       "</style>\n",
       "<table border=\"1\" class=\"dataframe\">\n",
       "  <thead>\n",
       "    <tr style=\"text-align: right;\">\n",
       "      <th></th>\n",
       "      <th>Data Venda</th>\n",
       "      <th>Canal de Venda</th>\n",
       "      <th>Local de Venda</th>\n",
       "      <th>PAX</th>\n",
       "      <th>Monetário Vendido</th>\n",
       "      <th>RPK</th>\n",
       "    </tr>\n",
       "  </thead>\n",
       "  <tbody>\n",
       "    <tr>\n",
       "      <th>31</th>\n",
       "      <td>2016-11-02</td>\n",
       "      <td>TeleVenda</td>\n",
       "      <td>Mindscape</td>\n",
       "      <td>75</td>\n",
       "      <td>4606.2650</td>\n",
       "      <td>9320</td>\n",
       "    </tr>\n",
       "    <tr>\n",
       "      <th>800</th>\n",
       "      <td>2016-12-21</td>\n",
       "      <td>TeleVenda</td>\n",
       "      <td>Mindscape</td>\n",
       "      <td>183</td>\n",
       "      <td>9719.1982</td>\n",
       "      <td>19273</td>\n",
       "    </tr>\n",
       "    <tr>\n",
       "      <th>2210</th>\n",
       "      <td>2017-03-19</td>\n",
       "      <td>TeleVenda</td>\n",
       "      <td>Arena</td>\n",
       "      <td>187</td>\n",
       "      <td>10480.8376</td>\n",
       "      <td>29375</td>\n",
       "    </tr>\n",
       "    <tr>\n",
       "      <th>1899</th>\n",
       "      <td>2017-02-27</td>\n",
       "      <td>Telégrafo</td>\n",
       "      <td>Arena</td>\n",
       "      <td>82</td>\n",
       "      <td>5727.4730</td>\n",
       "      <td>11884</td>\n",
       "    </tr>\n",
       "    <tr>\n",
       "      <th>738</th>\n",
       "      <td>2016-12-17</td>\n",
       "      <td>TeleVenda</td>\n",
       "      <td>Vast</td>\n",
       "      <td>279</td>\n",
       "      <td>18325.4553</td>\n",
       "      <td>13745</td>\n",
       "    </tr>\n",
       "  </tbody>\n",
       "</table>\n",
       "</div>"
      ],
      "text/plain": [
       "     Data Venda Canal de Venda Local de Venda  PAX  Monetário Vendido    RPK\n",
       "31   2016-11-02      TeleVenda      Mindscape   75          4606.2650   9320\n",
       "800  2016-12-21      TeleVenda      Mindscape  183          9719.1982  19273\n",
       "2210 2017-03-19      TeleVenda          Arena  187         10480.8376  29375\n",
       "1899 2017-02-27      Telégrafo          Arena   82          5727.4730  11884\n",
       "738  2016-12-17      TeleVenda           Vast  279         18325.4553  13745"
      ]
     },
     "execution_count": 4,
     "metadata": {},
     "output_type": "execute_result"
    }
   ],
   "source": [
    "df.sample(5)"
   ]
  },
  {
   "cell_type": "code",
   "execution_count": 5,
   "metadata": {},
   "outputs": [
    {
     "name": "stdout",
     "output_type": "stream",
     "text": [
      "<class 'pandas.core.frame.DataFrame'>\n",
      "RangeIndex: 2432 entries, 0 to 2431\n",
      "Data columns (total 6 columns):\n",
      " #   Column             Non-Null Count  Dtype         \n",
      "---  ------             --------------  -----         \n",
      " 0   Data Venda         2432 non-null   datetime64[ns]\n",
      " 1   Canal de Venda     2432 non-null   object        \n",
      " 2   Local de Venda     2432 non-null   object        \n",
      " 3   PAX                2432 non-null   int64         \n",
      " 4   Monetário Vendido  2432 non-null   float64       \n",
      " 5   RPK                2432 non-null   int64         \n",
      "dtypes: datetime64[ns](1), float64(1), int64(2), object(2)\n",
      "memory usage: 114.1+ KB\n"
     ]
    }
   ],
   "source": [
    "df.info()"
   ]
  },
  {
   "cell_type": "code",
   "execution_count": 6,
   "metadata": {},
   "outputs": [
    {
     "name": "stdout",
     "output_type": "stream",
     "text": [
      "O dataframe possui 2432 linhas e 6 colunas.\n"
     ]
    }
   ],
   "source": [
    "print(f'O dataframe possui {df.shape[0]} linhas e {df.shape[1]} colunas.')"
   ]
  },
  {
   "cell_type": "code",
   "execution_count": 7,
   "metadata": {},
   "outputs": [
    {
     "name": "stdout",
     "output_type": "stream",
     "text": [
      "Período em análise: de 2016-11-01 00:00:00 a 2017-04-01 00:00:00.\n"
     ]
    }
   ],
   "source": [
    "print(f\"Período em análise: de {df['Data Venda'].min()} a {df['Data Venda'].max()}.\")"
   ]
  },
  {
   "cell_type": "code",
   "execution_count": 8,
   "metadata": {},
   "outputs": [
    {
     "data": {
      "text/html": [
       "<div>\n",
       "<style scoped>\n",
       "    .dataframe tbody tr th:only-of-type {\n",
       "        vertical-align: middle;\n",
       "    }\n",
       "\n",
       "    .dataframe tbody tr th {\n",
       "        vertical-align: top;\n",
       "    }\n",
       "\n",
       "    .dataframe thead th {\n",
       "        text-align: right;\n",
       "    }\n",
       "</style>\n",
       "<table border=\"1\" class=\"dataframe\">\n",
       "  <thead>\n",
       "    <tr style=\"text-align: right;\">\n",
       "      <th></th>\n",
       "      <th>Total</th>\n",
       "      <th>Porcentagem</th>\n",
       "    </tr>\n",
       "  </thead>\n",
       "  <tbody>\n",
       "    <tr>\n",
       "      <th>RPK</th>\n",
       "      <td>0</td>\n",
       "      <td>0.0000</td>\n",
       "    </tr>\n",
       "    <tr>\n",
       "      <th>Monetário Vendido</th>\n",
       "      <td>0</td>\n",
       "      <td>0.0000</td>\n",
       "    </tr>\n",
       "    <tr>\n",
       "      <th>PAX</th>\n",
       "      <td>0</td>\n",
       "      <td>0.0000</td>\n",
       "    </tr>\n",
       "    <tr>\n",
       "      <th>Local de Venda</th>\n",
       "      <td>0</td>\n",
       "      <td>0.0000</td>\n",
       "    </tr>\n",
       "    <tr>\n",
       "      <th>Canal de Venda</th>\n",
       "      <td>0</td>\n",
       "      <td>0.0000</td>\n",
       "    </tr>\n",
       "    <tr>\n",
       "      <th>Data Venda</th>\n",
       "      <td>0</td>\n",
       "      <td>0.0000</td>\n",
       "    </tr>\n",
       "  </tbody>\n",
       "</table>\n",
       "</div>"
      ],
      "text/plain": [
       "                   Total  Porcentagem\n",
       "RPK                    0       0.0000\n",
       "Monetário Vendido      0       0.0000\n",
       "PAX                    0       0.0000\n",
       "Local de Venda         0       0.0000\n",
       "Canal de Venda         0       0.0000\n",
       "Data Venda             0       0.0000"
      ]
     },
     "execution_count": 8,
     "metadata": {},
     "output_type": "execute_result"
    }
   ],
   "source": [
    "# Dados faltantes\n",
    "total = df.isnull().sum().sort_values(ascending=False)\n",
    "porcentagem = (df.isnull().sum()/df.isnull().count()).sort_values(ascending=False)\n",
    "faltante = pd.concat([total, porcentagem], axis=1, keys=['Total', 'Porcentagem'])\n",
    "faltante.head(45)"
   ]
  },
  {
   "cell_type": "markdown",
   "metadata": {},
   "source": [
    "* Não há dados faltantes."
   ]
  },
  {
   "cell_type": "code",
   "execution_count": 9,
   "metadata": {},
   "outputs": [
    {
     "data": {
      "text/plain": [
       "['Telégrafo', 'TeleVenda', 'Porta a Porta']"
      ]
     },
     "execution_count": 9,
     "metadata": {},
     "output_type": "execute_result"
    }
   ],
   "source": [
    "# lista dos canais de venda\n",
    "df['Canal de Venda'].unique().tolist()"
   ]
  },
  {
   "cell_type": "code",
   "execution_count": 10,
   "metadata": {},
   "outputs": [
    {
     "data": {
      "text/plain": [
       "['Mindscape', 'Arena', 'Vast', 'Ellipsis']"
      ]
     },
     "execution_count": 10,
     "metadata": {},
     "output_type": "execute_result"
    }
   ],
   "source": [
    "# lista dos locais de venda\n",
    "df['Local de Venda'].unique().tolist()"
   ]
  },
  {
   "cell_type": "code",
   "execution_count": 11,
   "metadata": {},
   "outputs": [
    {
     "data": {
      "text/html": [
       "<div>\n",
       "<style scoped>\n",
       "    .dataframe tbody tr th:only-of-type {\n",
       "        vertical-align: middle;\n",
       "    }\n",
       "\n",
       "    .dataframe tbody tr th {\n",
       "        vertical-align: top;\n",
       "    }\n",
       "\n",
       "    .dataframe thead th {\n",
       "        text-align: right;\n",
       "    }\n",
       "</style>\n",
       "<table border=\"1\" class=\"dataframe\">\n",
       "  <thead>\n",
       "    <tr style=\"text-align: right;\">\n",
       "      <th></th>\n",
       "      <th>PAX</th>\n",
       "      <th>Monetário Vendido</th>\n",
       "      <th>RPK</th>\n",
       "    </tr>\n",
       "  </thead>\n",
       "  <tbody>\n",
       "    <tr>\n",
       "      <th>count</th>\n",
       "      <td>2432.0000</td>\n",
       "      <td>2432.0000</td>\n",
       "      <td>2432.0000</td>\n",
       "    </tr>\n",
       "    <tr>\n",
       "      <th>mean</th>\n",
       "      <td>723.0029</td>\n",
       "      <td>24638.7405</td>\n",
       "      <td>66738.3894</td>\n",
       "    </tr>\n",
       "    <tr>\n",
       "      <th>std</th>\n",
       "      <td>735.9365</td>\n",
       "      <td>22424.8429</td>\n",
       "      <td>83479.0395</td>\n",
       "    </tr>\n",
       "    <tr>\n",
       "      <th>min</th>\n",
       "      <td>18.0000</td>\n",
       "      <td>1041.5444</td>\n",
       "      <td>1127.0000</td>\n",
       "    </tr>\n",
       "    <tr>\n",
       "      <th>25%</th>\n",
       "      <td>100.0000</td>\n",
       "      <td>6122.9205</td>\n",
       "      <td>11372.0000</td>\n",
       "    </tr>\n",
       "    <tr>\n",
       "      <th>50%</th>\n",
       "      <td>395.5000</td>\n",
       "      <td>17755.4217</td>\n",
       "      <td>33361.5000</td>\n",
       "    </tr>\n",
       "    <tr>\n",
       "      <th>75%</th>\n",
       "      <td>1160.2500</td>\n",
       "      <td>35535.3240</td>\n",
       "      <td>95116.7500</td>\n",
       "    </tr>\n",
       "    <tr>\n",
       "      <th>max</th>\n",
       "      <td>4705.0000</td>\n",
       "      <td>144890.7311</td>\n",
       "      <td>695824.0000</td>\n",
       "    </tr>\n",
       "  </tbody>\n",
       "</table>\n",
       "</div>"
      ],
      "text/plain": [
       "            PAX  Monetário Vendido         RPK\n",
       "count 2432.0000          2432.0000   2432.0000\n",
       "mean   723.0029         24638.7405  66738.3894\n",
       "std    735.9365         22424.8429  83479.0395\n",
       "min     18.0000          1041.5444   1127.0000\n",
       "25%    100.0000          6122.9205  11372.0000\n",
       "50%    395.5000         17755.4217  33361.5000\n",
       "75%   1160.2500         35535.3240  95116.7500\n",
       "max   4705.0000        144890.7311 695824.0000"
      ]
     },
     "execution_count": 11,
     "metadata": {},
     "output_type": "execute_result"
    }
   ],
   "source": [
    "df.describe()"
   ]
  },
  {
   "cell_type": "markdown",
   "metadata": {},
   "source": [
    "## 4. Perguntas\n",
    "[Retorna à Tabela de conteúdo](#Tabela-de-conteúdo)"
   ]
  },
  {
   "cell_type": "markdown",
   "metadata": {},
   "source": [
    "### 1. Faça um ranking para o número total de PAX por dia da semana.\n",
    "[Retorna à Tabela de conteúdo](#Tabela-de-conteúdo)"
   ]
  },
  {
   "cell_type": "code",
   "execution_count": 12,
   "metadata": {},
   "outputs": [],
   "source": [
    "# cópia do dataframe\n",
    "df_ = df.copy()"
   ]
  },
  {
   "cell_type": "code",
   "execution_count": 13,
   "metadata": {},
   "outputs": [],
   "source": [
    "# cria dia da semana\n",
    "df_['dia_semana'] = df_['Data Venda'].dt.day_name()"
   ]
  },
  {
   "cell_type": "code",
   "execution_count": 14,
   "metadata": {},
   "outputs": [],
   "source": [
    "# en --> pt\n",
    "df_.loc[df_['dia_semana'] == 'Monday', 'dia_semana'] = 'segunda-feira'\n",
    "df_.loc[df_['dia_semana'] == 'Tuesday', 'dia_semana'] = 'terça-feira'\n",
    "df_.loc[df_['dia_semana'] == 'Wednesday', 'dia_semana'] = 'quarta-feira'\n",
    "df_.loc[df_['dia_semana'] == 'Thursday', 'dia_semana'] = 'quinta-feira'\n",
    "df_.loc[df_['dia_semana'] == 'Friday', 'dia_semana'] = 'sexta-feira'\n",
    "df_.loc[df_['dia_semana'] == 'Saturday', 'dia_semana'] = 'sábado'\n",
    "df_.loc[df_['dia_semana'] == 'Sunday', 'dia_semana'] = 'domingo'"
   ]
  },
  {
   "cell_type": "code",
   "execution_count": 15,
   "metadata": {},
   "outputs": [
    {
     "data": {
      "text/html": [
       "<div>\n",
       "<style scoped>\n",
       "    .dataframe tbody tr th:only-of-type {\n",
       "        vertical-align: middle;\n",
       "    }\n",
       "\n",
       "    .dataframe tbody tr th {\n",
       "        vertical-align: top;\n",
       "    }\n",
       "\n",
       "    .dataframe thead th {\n",
       "        text-align: right;\n",
       "    }\n",
       "</style>\n",
       "<table border=\"1\" class=\"dataframe\">\n",
       "  <thead>\n",
       "    <tr style=\"text-align: right;\">\n",
       "      <th></th>\n",
       "      <th>Data Venda</th>\n",
       "      <th>Canal de Venda</th>\n",
       "      <th>Local de Venda</th>\n",
       "      <th>PAX</th>\n",
       "      <th>Monetário Vendido</th>\n",
       "      <th>RPK</th>\n",
       "      <th>dia_semana</th>\n",
       "    </tr>\n",
       "  </thead>\n",
       "  <tbody>\n",
       "    <tr>\n",
       "      <th>1672</th>\n",
       "      <td>2017-02-13</td>\n",
       "      <td>Porta a Porta</td>\n",
       "      <td>Mindscape</td>\n",
       "      <td>570</td>\n",
       "      <td>17284.3662</td>\n",
       "      <td>69559</td>\n",
       "      <td>segunda-feira</td>\n",
       "    </tr>\n",
       "    <tr>\n",
       "      <th>1722</th>\n",
       "      <td>2017-02-16</td>\n",
       "      <td>Porta a Porta</td>\n",
       "      <td>Ellipsis</td>\n",
       "      <td>736</td>\n",
       "      <td>21492.7677</td>\n",
       "      <td>39845</td>\n",
       "      <td>quinta-feira</td>\n",
       "    </tr>\n",
       "    <tr>\n",
       "      <th>1795</th>\n",
       "      <td>2017-02-21</td>\n",
       "      <td>TeleVenda</td>\n",
       "      <td>Ellipsis</td>\n",
       "      <td>1232</td>\n",
       "      <td>20811.5298</td>\n",
       "      <td>70753</td>\n",
       "      <td>terça-feira</td>\n",
       "    </tr>\n",
       "    <tr>\n",
       "      <th>551</th>\n",
       "      <td>2016-12-05</td>\n",
       "      <td>Porta a Porta</td>\n",
       "      <td>Mindscape</td>\n",
       "      <td>797</td>\n",
       "      <td>26060.4868</td>\n",
       "      <td>91083</td>\n",
       "      <td>segunda-feira</td>\n",
       "    </tr>\n",
       "    <tr>\n",
       "      <th>242</th>\n",
       "      <td>2016-11-16</td>\n",
       "      <td>TeleVenda</td>\n",
       "      <td>Arena</td>\n",
       "      <td>2155</td>\n",
       "      <td>86479.0009</td>\n",
       "      <td>315391</td>\n",
       "      <td>quarta-feira</td>\n",
       "    </tr>\n",
       "  </tbody>\n",
       "</table>\n",
       "</div>"
      ],
      "text/plain": [
       "     Data Venda Canal de Venda Local de Venda   PAX  Monetário Vendido  \\\n",
       "1672 2017-02-13  Porta a Porta      Mindscape   570         17284.3662   \n",
       "1722 2017-02-16  Porta a Porta       Ellipsis   736         21492.7677   \n",
       "1795 2017-02-21      TeleVenda       Ellipsis  1232         20811.5298   \n",
       "551  2016-12-05  Porta a Porta      Mindscape   797         26060.4868   \n",
       "242  2016-11-16      TeleVenda          Arena  2155         86479.0009   \n",
       "\n",
       "         RPK     dia_semana  \n",
       "1672   69559  segunda-feira  \n",
       "1722   39845   quinta-feira  \n",
       "1795   70753    terça-feira  \n",
       "551    91083  segunda-feira  \n",
       "242   315391   quarta-feira  "
      ]
     },
     "execution_count": 15,
     "metadata": {},
     "output_type": "execute_result"
    }
   ],
   "source": [
    "df_.sample(5)"
   ]
  },
  {
   "cell_type": "code",
   "execution_count": 16,
   "metadata": {},
   "outputs": [
    {
     "data": {
      "text/plain": [
       "dia_semana\n",
       "quarta-feira     293025\n",
       "quinta-feira     258488\n",
       "sexta-feira      255625\n",
       "sábado           253467\n",
       "domingo          241620\n",
       "segunda-feira    236316\n",
       "terça-feira      219802\n",
       "Name: PAX, dtype: int64"
      ]
     },
     "execution_count": 16,
     "metadata": {},
     "output_type": "execute_result"
    }
   ],
   "source": [
    "df_.groupby(by='dia_semana')['PAX'].sum().sort_values(ascending=False)"
   ]
  },
  {
   "cell_type": "markdown",
   "metadata": {},
   "source": [
    "| Dia da semana | Total de passageiros |\n",
    "|:--|:--:|\n",
    "| quarta-feira | 293025 |\n",
    "| quinta-feira | 258488 |\n",
    "| sexta-feira  | 255625 |\n",
    "| sábado       | 253467 |\n",
    "| domingo      | 241620 |\n",
    "| segunda-feira| 236316 |\n",
    "| terça-feira  | 219802 |"
   ]
  },
  {
   "cell_type": "markdown",
   "metadata": {},
   "source": [
    "* O dia com maior número de passageiros, em todo período, é quarta-feira."
   ]
  },
  {
   "cell_type": "markdown",
   "metadata": {},
   "source": [
    "### 2. Qual a correlação de sábado e domingo somados com o total de RPK?\n",
    "[Retorna à Tabela de conteúdo](#Tabela-de-conteúdo)"
   ]
  },
  {
   "cell_type": "code",
   "execution_count": 17,
   "metadata": {},
   "outputs": [],
   "source": [
    "# dia da semana: segunda-feira == 0; domingo == 6\n",
    "df_['dia_semana_num'] = df_['Data Venda'].dt.dayofweek"
   ]
  },
  {
   "cell_type": "code",
   "execution_count": 18,
   "metadata": {},
   "outputs": [
    {
     "data": {
      "text/html": [
       "<div>\n",
       "<style scoped>\n",
       "    .dataframe tbody tr th:only-of-type {\n",
       "        vertical-align: middle;\n",
       "    }\n",
       "\n",
       "    .dataframe tbody tr th {\n",
       "        vertical-align: top;\n",
       "    }\n",
       "\n",
       "    .dataframe thead th {\n",
       "        text-align: right;\n",
       "    }\n",
       "</style>\n",
       "<table border=\"1\" class=\"dataframe\">\n",
       "  <thead>\n",
       "    <tr style=\"text-align: right;\">\n",
       "      <th></th>\n",
       "      <th>Data Venda</th>\n",
       "      <th>Canal de Venda</th>\n",
       "      <th>Local de Venda</th>\n",
       "      <th>PAX</th>\n",
       "      <th>Monetário Vendido</th>\n",
       "      <th>RPK</th>\n",
       "      <th>dia_semana</th>\n",
       "      <th>dia_semana_num</th>\n",
       "    </tr>\n",
       "  </thead>\n",
       "  <tbody>\n",
       "    <tr>\n",
       "      <th>903</th>\n",
       "      <td>2016-12-27</td>\n",
       "      <td>TeleVenda</td>\n",
       "      <td>Arena</td>\n",
       "      <td>907</td>\n",
       "      <td>19614.1483</td>\n",
       "      <td>134343</td>\n",
       "      <td>terça-feira</td>\n",
       "      <td>1</td>\n",
       "    </tr>\n",
       "    <tr>\n",
       "      <th>1461</th>\n",
       "      <td>2017-01-31</td>\n",
       "      <td>Telégrafo</td>\n",
       "      <td>Mindscape</td>\n",
       "      <td>40</td>\n",
       "      <td>3140.9465</td>\n",
       "      <td>5430</td>\n",
       "      <td>terça-feira</td>\n",
       "      <td>1</td>\n",
       "    </tr>\n",
       "    <tr>\n",
       "      <th>1251</th>\n",
       "      <td>2017-01-18</td>\n",
       "      <td>Telégrafo</td>\n",
       "      <td>Mindscape</td>\n",
       "      <td>67</td>\n",
       "      <td>3693.7161</td>\n",
       "      <td>8861</td>\n",
       "      <td>quarta-feira</td>\n",
       "      <td>2</td>\n",
       "    </tr>\n",
       "  </tbody>\n",
       "</table>\n",
       "</div>"
      ],
      "text/plain": [
       "     Data Venda Canal de Venda Local de Venda  PAX  Monetário Vendido     RPK  \\\n",
       "903  2016-12-27      TeleVenda          Arena  907         19614.1483  134343   \n",
       "1461 2017-01-31      Telégrafo      Mindscape   40          3140.9465    5430   \n",
       "1251 2017-01-18      Telégrafo      Mindscape   67          3693.7161    8861   \n",
       "\n",
       "        dia_semana  dia_semana_num  \n",
       "903    terça-feira               1  \n",
       "1461   terça-feira               1  \n",
       "1251  quarta-feira               2  "
      ]
     },
     "execution_count": 18,
     "metadata": {},
     "output_type": "execute_result"
    }
   ],
   "source": [
    "df_.sample(3)"
   ]
  },
  {
   "cell_type": "code",
   "execution_count": 19,
   "metadata": {},
   "outputs": [
    {
     "data": {
      "text/html": [
       "<div>\n",
       "<style scoped>\n",
       "    .dataframe tbody tr th:only-of-type {\n",
       "        vertical-align: middle;\n",
       "    }\n",
       "\n",
       "    .dataframe tbody tr th {\n",
       "        vertical-align: top;\n",
       "    }\n",
       "\n",
       "    .dataframe thead tr th {\n",
       "        text-align: left;\n",
       "    }\n",
       "\n",
       "    .dataframe thead tr:last-of-type th {\n",
       "        text-align: right;\n",
       "    }\n",
       "</style>\n",
       "<table border=\"1\" class=\"dataframe\">\n",
       "  <thead>\n",
       "    <tr>\n",
       "      <th></th>\n",
       "      <th>RPK</th>\n",
       "    </tr>\n",
       "    <tr>\n",
       "      <th></th>\n",
       "      <th>sum</th>\n",
       "    </tr>\n",
       "    <tr>\n",
       "      <th>dia_semana_num</th>\n",
       "      <th></th>\n",
       "    </tr>\n",
       "  </thead>\n",
       "  <tbody>\n",
       "    <tr>\n",
       "      <th>0</th>\n",
       "      <td>23275908</td>\n",
       "    </tr>\n",
       "    <tr>\n",
       "      <th>1</th>\n",
       "      <td>20366840</td>\n",
       "    </tr>\n",
       "    <tr>\n",
       "      <th>2</th>\n",
       "      <td>26263705</td>\n",
       "    </tr>\n",
       "    <tr>\n",
       "      <th>3</th>\n",
       "      <td>23501102</td>\n",
       "    </tr>\n",
       "    <tr>\n",
       "      <th>4</th>\n",
       "      <td>23309936</td>\n",
       "    </tr>\n",
       "    <tr>\n",
       "      <th>5</th>\n",
       "      <td>23201577</td>\n",
       "    </tr>\n",
       "    <tr>\n",
       "      <th>6</th>\n",
       "      <td>22388695</td>\n",
       "    </tr>\n",
       "  </tbody>\n",
       "</table>\n",
       "</div>"
      ],
      "text/plain": [
       "                     RPK\n",
       "                     sum\n",
       "dia_semana_num          \n",
       "0               23275908\n",
       "1               20366840\n",
       "2               26263705\n",
       "3               23501102\n",
       "4               23309936\n",
       "5               23201577\n",
       "6               22388695"
      ]
     },
     "execution_count": 19,
     "metadata": {},
     "output_type": "execute_result"
    }
   ],
   "source": [
    "df_.groupby('dia_semana_num').agg({'RPK': ['sum']})"
   ]
  },
  {
   "cell_type": "code",
   "execution_count": 20,
   "metadata": {},
   "outputs": [
    {
     "data": {
      "text/plain": [
       "dia_semana_num        1760\n",
       "RPK               23201577\n",
       "dtype: int64"
      ]
     },
     "execution_count": 20,
     "metadata": {},
     "output_type": "execute_result"
    }
   ],
   "source": [
    "sabado_RPK = df_[['dia_semana_num','RPK']].query('`dia_semana_num` == 5').sum()\n",
    "sabado_RPK"
   ]
  },
  {
   "cell_type": "code",
   "execution_count": 21,
   "metadata": {},
   "outputs": [
    {
     "data": {
      "text/plain": [
       "dia_semana_num        2016\n",
       "RPK               22388695\n",
       "dtype: int64"
      ]
     },
     "execution_count": 21,
     "metadata": {},
     "output_type": "execute_result"
    }
   ],
   "source": [
    "domingo_RPK = df_[['dia_semana_num','RPK']].query('`dia_semana_num` == 6').sum()\n",
    "domingo_RPK"
   ]
  },
  {
   "cell_type": "code",
   "execution_count": 22,
   "metadata": {},
   "outputs": [
    {
     "data": {
      "text/plain": [
       "162307763"
      ]
     },
     "execution_count": 22,
     "metadata": {},
     "output_type": "execute_result"
    }
   ],
   "source": [
    "total_RPK = df_['RPK'].sum()\n",
    "total_RPK"
   ]
  },
  {
   "cell_type": "code",
   "execution_count": 23,
   "metadata": {},
   "outputs": [],
   "source": [
    "RPK_sab_dom = (sabado_RPK[1] + domingo_RPK[1]) / total_RPK"
   ]
  },
  {
   "cell_type": "code",
   "execution_count": 24,
   "metadata": {},
   "outputs": [
    {
     "data": {
      "image/png": "[encoded data removed]",
      "text/plain": [
       "<Figure size 360x360 with 1 Axes>"
      ]
     },
     "metadata": {},
     "output_type": "display_data"
    }
   ],
   "source": [
    "labels = df_['dia_semana'].value_counts(sort = True).index\n",
    "sizes = df_['dia_semana'].value_counts(sort = True)\n",
    "\n",
    "colors = [\"navajowhite\", \"orange\", \"papayawhip\", \"darkorange\", \"yellow\", \"gold\", \"coral\"]\n",
    " \n",
    "rcParams['figure.figsize'] = 5, 5\n",
    "# Plot\n",
    "plt.pie(sizes, labels=labels, colors=colors,\n",
    "        autopct='%1.1f%%', shadow=True, startangle=270,)\n",
    "\n",
    "plt.title('Porcentagem de cada dia da semana')\n",
    "plt.show()"
   ]
  },
  {
   "cell_type": "code",
   "execution_count": 25,
   "metadata": {},
   "outputs": [
    {
     "data": {
      "text/plain": [
       "<matplotlib.axes._subplots.AxesSubplot at 0x7f9f4385d0b8>"
      ]
     },
     "execution_count": 25,
     "metadata": {},
     "output_type": "execute_result"
    },
    {
     "data": {
      "image/png": "[encoded data removed]",
      "text/plain": [
       "<Figure size 576x288 with 1 Axes>"
      ]
     },
     "metadata": {
      "needs_background": "light"
     },
     "output_type": "display_data"
    }
   ],
   "source": [
    "fig_dims = (8, 4)\n",
    "fig, ax = plt.subplots(figsize=fig_dims)\n",
    "\n",
    "sns.barplot(x='dia_semana', y='RPK', data=df_)"
   ]
  },
  {
   "cell_type": "code",
   "execution_count": 26,
   "metadata": {},
   "outputs": [
    {
     "name": "stdout",
     "output_type": "stream",
     "text": [
      "Sábado e domingo representam 28.3% dos dias registrados e 28.09% do total RPK.\n"
     ]
    }
   ],
   "source": [
    "print(f'Sábado e domingo representam 28.3% dos dias registrados e {round(RPK_sab_dom * 100, 2)}% do total RPK.') "
   ]
  },
  {
   "cell_type": "markdown",
   "metadata": {},
   "source": [
    "### 3. Qual a média de ‘Monetário’ por mês por Canal? E a mediana?\n",
    "[Retorna à Tabela de conteúdo](#Tabela-de-conteúdo)"
   ]
  },
  {
   "cell_type": "code",
   "execution_count": 27,
   "metadata": {},
   "outputs": [],
   "source": [
    "# coluna 'mês'\n",
    "df_['mês'] = df['Data Venda'].dt.month"
   ]
  },
  {
   "cell_type": "code",
   "execution_count": 28,
   "metadata": {},
   "outputs": [
    {
     "data": {
      "text/html": [
       "<div>\n",
       "<style scoped>\n",
       "    .dataframe tbody tr th:only-of-type {\n",
       "        vertical-align: middle;\n",
       "    }\n",
       "\n",
       "    .dataframe tbody tr th {\n",
       "        vertical-align: top;\n",
       "    }\n",
       "\n",
       "    .dataframe thead th {\n",
       "        text-align: right;\n",
       "    }\n",
       "</style>\n",
       "<table border=\"1\" class=\"dataframe\">\n",
       "  <thead>\n",
       "    <tr style=\"text-align: right;\">\n",
       "      <th></th>\n",
       "      <th>Data Venda</th>\n",
       "      <th>Canal de Venda</th>\n",
       "      <th>Local de Venda</th>\n",
       "      <th>PAX</th>\n",
       "      <th>Monetário Vendido</th>\n",
       "      <th>RPK</th>\n",
       "      <th>dia_semana</th>\n",
       "      <th>dia_semana_num</th>\n",
       "      <th>mês</th>\n",
       "    </tr>\n",
       "  </thead>\n",
       "  <tbody>\n",
       "    <tr>\n",
       "      <th>584</th>\n",
       "      <td>2016-12-07</td>\n",
       "      <td>Porta a Porta</td>\n",
       "      <td>Arena</td>\n",
       "      <td>924</td>\n",
       "      <td>44546.0640</td>\n",
       "      <td>130811</td>\n",
       "      <td>quarta-feira</td>\n",
       "      <td>2</td>\n",
       "      <td>12</td>\n",
       "    </tr>\n",
       "    <tr>\n",
       "      <th>35</th>\n",
       "      <td>2016-11-03</td>\n",
       "      <td>Porta a Porta</td>\n",
       "      <td>Mindscape</td>\n",
       "      <td>987</td>\n",
       "      <td>38006.2928</td>\n",
       "      <td>115339</td>\n",
       "      <td>quinta-feira</td>\n",
       "      <td>3</td>\n",
       "      <td>11</td>\n",
       "    </tr>\n",
       "    <tr>\n",
       "      <th>691</th>\n",
       "      <td>2016-12-14</td>\n",
       "      <td>Telégrafo</td>\n",
       "      <td>Ellipsis</td>\n",
       "      <td>53</td>\n",
       "      <td>2074.1854</td>\n",
       "      <td>3005</td>\n",
       "      <td>quarta-feira</td>\n",
       "      <td>2</td>\n",
       "      <td>12</td>\n",
       "    </tr>\n",
       "    <tr>\n",
       "      <th>319</th>\n",
       "      <td>2016-11-20</td>\n",
       "      <td>Telégrafo</td>\n",
       "      <td>Mindscape</td>\n",
       "      <td>59</td>\n",
       "      <td>5074.2760</td>\n",
       "      <td>7892</td>\n",
       "      <td>domingo</td>\n",
       "      <td>6</td>\n",
       "      <td>11</td>\n",
       "    </tr>\n",
       "    <tr>\n",
       "      <th>2291</th>\n",
       "      <td>2017-03-24</td>\n",
       "      <td>TeleVenda</td>\n",
       "      <td>Ellipsis</td>\n",
       "      <td>1307</td>\n",
       "      <td>39150.8724</td>\n",
       "      <td>75166</td>\n",
       "      <td>sexta-feira</td>\n",
       "      <td>4</td>\n",
       "      <td>3</td>\n",
       "    </tr>\n",
       "  </tbody>\n",
       "</table>\n",
       "</div>"
      ],
      "text/plain": [
       "     Data Venda Canal de Venda Local de Venda   PAX  Monetário Vendido  \\\n",
       "584  2016-12-07  Porta a Porta          Arena   924         44546.0640   \n",
       "35   2016-11-03  Porta a Porta      Mindscape   987         38006.2928   \n",
       "691  2016-12-14      Telégrafo       Ellipsis    53          2074.1854   \n",
       "319  2016-11-20      Telégrafo      Mindscape    59          5074.2760   \n",
       "2291 2017-03-24      TeleVenda       Ellipsis  1307         39150.8724   \n",
       "\n",
       "         RPK    dia_semana  dia_semana_num  mês  \n",
       "584   130811  quarta-feira               2   12  \n",
       "35    115339  quinta-feira               3   11  \n",
       "691     3005  quarta-feira               2   12  \n",
       "319     7892       domingo               6   11  \n",
       "2291   75166   sexta-feira               4    3  "
      ]
     },
     "execution_count": 28,
     "metadata": {},
     "output_type": "execute_result"
    }
   ],
   "source": [
    "df_.sample(5)"
   ]
  },
  {
   "cell_type": "code",
   "execution_count": 29,
   "metadata": {},
   "outputs": [
    {
     "data": {
      "text/html": [
       "<div>\n",
       "<style scoped>\n",
       "    .dataframe tbody tr th:only-of-type {\n",
       "        vertical-align: middle;\n",
       "    }\n",
       "\n",
       "    .dataframe tbody tr th {\n",
       "        vertical-align: top;\n",
       "    }\n",
       "\n",
       "    .dataframe thead tr th {\n",
       "        text-align: left;\n",
       "    }\n",
       "\n",
       "    .dataframe thead tr:last-of-type th {\n",
       "        text-align: right;\n",
       "    }\n",
       "</style>\n",
       "<table border=\"1\" class=\"dataframe\">\n",
       "  <thead>\n",
       "    <tr>\n",
       "      <th></th>\n",
       "      <th></th>\n",
       "      <th colspan=\"2\" halign=\"left\">Monetário Vendido</th>\n",
       "    </tr>\n",
       "    <tr>\n",
       "      <th></th>\n",
       "      <th></th>\n",
       "      <th>mean</th>\n",
       "      <th>median</th>\n",
       "    </tr>\n",
       "    <tr>\n",
       "      <th>Canal de Venda</th>\n",
       "      <th>mês</th>\n",
       "      <th></th>\n",
       "      <th></th>\n",
       "    </tr>\n",
       "  </thead>\n",
       "  <tbody>\n",
       "    <tr>\n",
       "      <th rowspan=\"6\" valign=\"top\">Porta a Porta</th>\n",
       "      <th>1</th>\n",
       "      <td>31320.5695</td>\n",
       "      <td>28823.0253</td>\n",
       "    </tr>\n",
       "    <tr>\n",
       "      <th>2</th>\n",
       "      <td>31710.1489</td>\n",
       "      <td>29711.5801</td>\n",
       "    </tr>\n",
       "    <tr>\n",
       "      <th>3</th>\n",
       "      <td>31055.9398</td>\n",
       "      <td>30488.1910</td>\n",
       "    </tr>\n",
       "    <tr>\n",
       "      <th>4</th>\n",
       "      <td>33319.4963</td>\n",
       "      <td>32421.6094</td>\n",
       "    </tr>\n",
       "    <tr>\n",
       "      <th>11</th>\n",
       "      <td>34638.0718</td>\n",
       "      <td>30262.9780</td>\n",
       "    </tr>\n",
       "    <tr>\n",
       "      <th>12</th>\n",
       "      <td>28615.4525</td>\n",
       "      <td>25527.5193</td>\n",
       "    </tr>\n",
       "    <tr>\n",
       "      <th rowspan=\"6\" valign=\"top\">TeleVenda</th>\n",
       "      <th>1</th>\n",
       "      <td>32868.8814</td>\n",
       "      <td>19085.1232</td>\n",
       "    </tr>\n",
       "    <tr>\n",
       "      <th>2</th>\n",
       "      <td>32208.4458</td>\n",
       "      <td>18926.6902</td>\n",
       "    </tr>\n",
       "    <tr>\n",
       "      <th>3</th>\n",
       "      <td>32132.2467</td>\n",
       "      <td>18666.8800</td>\n",
       "    </tr>\n",
       "    <tr>\n",
       "      <th>4</th>\n",
       "      <td>35795.7819</td>\n",
       "      <td>28091.8856</td>\n",
       "    </tr>\n",
       "    <tr>\n",
       "      <th>11</th>\n",
       "      <td>30963.4593</td>\n",
       "      <td>18757.7078</td>\n",
       "    </tr>\n",
       "    <tr>\n",
       "      <th>12</th>\n",
       "      <td>28045.7215</td>\n",
       "      <td>17567.6009</td>\n",
       "    </tr>\n",
       "    <tr>\n",
       "      <th rowspan=\"6\" valign=\"top\">Telégrafo</th>\n",
       "      <th>1</th>\n",
       "      <td>4234.0226</td>\n",
       "      <td>3782.2489</td>\n",
       "    </tr>\n",
       "    <tr>\n",
       "      <th>2</th>\n",
       "      <td>4307.6263</td>\n",
       "      <td>4045.8931</td>\n",
       "    </tr>\n",
       "    <tr>\n",
       "      <th>3</th>\n",
       "      <td>4568.1485</td>\n",
       "      <td>4345.5596</td>\n",
       "    </tr>\n",
       "    <tr>\n",
       "      <th>4</th>\n",
       "      <td>3778.5918</td>\n",
       "      <td>3458.8847</td>\n",
       "    </tr>\n",
       "    <tr>\n",
       "      <th>11</th>\n",
       "      <td>4614.3101</td>\n",
       "      <td>4029.1321</td>\n",
       "    </tr>\n",
       "    <tr>\n",
       "      <th>12</th>\n",
       "      <td>5212.6481</td>\n",
       "      <td>4227.5779</td>\n",
       "    </tr>\n",
       "  </tbody>\n",
       "</table>\n",
       "</div>"
      ],
      "text/plain": [
       "                   Monetário Vendido           \n",
       "                                mean     median\n",
       "Canal de Venda mês                             \n",
       "Porta a Porta  1          31320.5695 28823.0253\n",
       "               2          31710.1489 29711.5801\n",
       "               3          31055.9398 30488.1910\n",
       "               4          33319.4963 32421.6094\n",
       "               11         34638.0718 30262.9780\n",
       "               12         28615.4525 25527.5193\n",
       "TeleVenda      1          32868.8814 19085.1232\n",
       "               2          32208.4458 18926.6902\n",
       "               3          32132.2467 18666.8800\n",
       "               4          35795.7819 28091.8856\n",
       "               11         30963.4593 18757.7078\n",
       "               12         28045.7215 17567.6009\n",
       "Telégrafo      1           4234.0226  3782.2489\n",
       "               2           4307.6263  4045.8931\n",
       "               3           4568.1485  4345.5596\n",
       "               4           3778.5918  3458.8847\n",
       "               11          4614.3101  4029.1321\n",
       "               12          5212.6481  4227.5779"
      ]
     },
     "execution_count": 29,
     "metadata": {},
     "output_type": "execute_result"
    }
   ],
   "source": [
    "df_.groupby(['Canal de Venda', 'mês']).agg({'Monetário Vendido': ['mean', 'median']})"
   ]
  },
  {
   "cell_type": "markdown",
   "metadata": {},
   "source": [
    "### 4. Crie um forecast de PAX por ‘Local de Venda’ para os próximos 15 dias a contar da última data de venda.\n",
    "[Retorna à Tabela de conteúdo](#Tabela-de-conteúdo)"
   ]
  },
  {
   "cell_type": "code",
   "execution_count": 30,
   "metadata": {},
   "outputs": [],
   "source": [
    "# seleção das colunas\n",
    "df_ts = df_[['Data Venda', 'PAX']].copy()"
   ]
  },
  {
   "cell_type": "code",
   "execution_count": 31,
   "metadata": {},
   "outputs": [
    {
     "data": {
      "text/html": [
       "<div>\n",
       "<style scoped>\n",
       "    .dataframe tbody tr th:only-of-type {\n",
       "        vertical-align: middle;\n",
       "    }\n",
       "\n",
       "    .dataframe tbody tr th {\n",
       "        vertical-align: top;\n",
       "    }\n",
       "\n",
       "    .dataframe thead th {\n",
       "        text-align: right;\n",
       "    }\n",
       "</style>\n",
       "<table border=\"1\" class=\"dataframe\">\n",
       "  <thead>\n",
       "    <tr style=\"text-align: right;\">\n",
       "      <th></th>\n",
       "      <th>Data Venda</th>\n",
       "      <th>PAX</th>\n",
       "    </tr>\n",
       "  </thead>\n",
       "  <tbody>\n",
       "    <tr>\n",
       "      <th>1278</th>\n",
       "      <td>2017-01-19</td>\n",
       "      <td>59</td>\n",
       "    </tr>\n",
       "    <tr>\n",
       "      <th>1158</th>\n",
       "      <td>2017-01-12</td>\n",
       "      <td>2245</td>\n",
       "    </tr>\n",
       "    <tr>\n",
       "      <th>1471</th>\n",
       "      <td>2017-01-31</td>\n",
       "      <td>81</td>\n",
       "    </tr>\n",
       "    <tr>\n",
       "      <th>1090</th>\n",
       "      <td>2017-01-08</td>\n",
       "      <td>280</td>\n",
       "    </tr>\n",
       "    <tr>\n",
       "      <th>2231</th>\n",
       "      <td>2017-03-20</td>\n",
       "      <td>931</td>\n",
       "    </tr>\n",
       "  </tbody>\n",
       "</table>\n",
       "</div>"
      ],
      "text/plain": [
       "     Data Venda   PAX\n",
       "1278 2017-01-19    59\n",
       "1158 2017-01-12  2245\n",
       "1471 2017-01-31    81\n",
       "1090 2017-01-08   280\n",
       "2231 2017-03-20   931"
      ]
     },
     "execution_count": 31,
     "metadata": {},
     "output_type": "execute_result"
    }
   ],
   "source": [
    "df_ts.sample(5)"
   ]
  },
  {
   "cell_type": "code",
   "execution_count": 32,
   "metadata": {},
   "outputs": [
    {
     "data": {
      "text/plain": [
       "Data Venda    datetime64[ns]\n",
       "PAX                    int64\n",
       "dtype: object"
      ]
     },
     "execution_count": 32,
     "metadata": {},
     "output_type": "execute_result"
    }
   ],
   "source": [
    "df_ts.dtypes"
   ]
  },
  {
   "cell_type": "code",
   "execution_count": 33,
   "metadata": {},
   "outputs": [],
   "source": [
    "# define data como index\n",
    "ts = df_ts.set_index('Data Venda')"
   ]
  },
  {
   "cell_type": "code",
   "execution_count": 34,
   "metadata": {},
   "outputs": [
    {
     "data": {
      "text/html": [
       "<div>\n",
       "<style scoped>\n",
       "    .dataframe tbody tr th:only-of-type {\n",
       "        vertical-align: middle;\n",
       "    }\n",
       "\n",
       "    .dataframe tbody tr th {\n",
       "        vertical-align: top;\n",
       "    }\n",
       "\n",
       "    .dataframe thead th {\n",
       "        text-align: right;\n",
       "    }\n",
       "</style>\n",
       "<table border=\"1\" class=\"dataframe\">\n",
       "  <thead>\n",
       "    <tr style=\"text-align: right;\">\n",
       "      <th></th>\n",
       "      <th>PAX</th>\n",
       "    </tr>\n",
       "    <tr>\n",
       "      <th>Data Venda</th>\n",
       "      <th></th>\n",
       "    </tr>\n",
       "  </thead>\n",
       "  <tbody>\n",
       "    <tr>\n",
       "      <th>2016-11-01</th>\n",
       "      <td>30</td>\n",
       "    </tr>\n",
       "    <tr>\n",
       "      <th>2016-11-01</th>\n",
       "      <td>52</td>\n",
       "    </tr>\n",
       "    <tr>\n",
       "      <th>2016-11-01</th>\n",
       "      <td>19</td>\n",
       "    </tr>\n",
       "    <tr>\n",
       "      <th>2016-11-01</th>\n",
       "      <td>496</td>\n",
       "    </tr>\n",
       "    <tr>\n",
       "      <th>2016-11-01</th>\n",
       "      <td>46</td>\n",
       "    </tr>\n",
       "  </tbody>\n",
       "</table>\n",
       "</div>"
      ],
      "text/plain": [
       "            PAX\n",
       "Data Venda     \n",
       "2016-11-01   30\n",
       "2016-11-01   52\n",
       "2016-11-01   19\n",
       "2016-11-01  496\n",
       "2016-11-01   46"
      ]
     },
     "execution_count": 34,
     "metadata": {},
     "output_type": "execute_result"
    }
   ],
   "source": [
    "ts.head()"
   ]
  },
  {
   "cell_type": "code",
   "execution_count": 35,
   "metadata": {},
   "outputs": [
    {
     "data": {
      "text/plain": [
       "DatetimeIndex(['2016-11-01', '2016-11-01', '2016-11-01', '2016-11-01',\n",
       "               '2016-11-01', '2016-11-01', '2016-11-01', '2016-11-01',\n",
       "               '2016-11-01', '2016-11-01',\n",
       "               ...\n",
       "               '2017-04-01', '2017-04-01', '2017-04-01', '2017-04-01',\n",
       "               '2017-04-01', '2017-04-01', '2017-04-01', '2017-04-01',\n",
       "               '2017-04-01', '2017-04-01'],\n",
       "              dtype='datetime64[ns]', name='Data Venda', length=2432, freq=None)"
      ]
     },
     "execution_count": 35,
     "metadata": {},
     "output_type": "execute_result"
    }
   ],
   "source": [
    "ts.index"
   ]
  },
  {
   "cell_type": "code",
   "execution_count": 36,
   "metadata": {},
   "outputs": [
    {
     "data": {
      "text/html": [
       "<div>\n",
       "<style scoped>\n",
       "    .dataframe tbody tr th:only-of-type {\n",
       "        vertical-align: middle;\n",
       "    }\n",
       "\n",
       "    .dataframe tbody tr th {\n",
       "        vertical-align: top;\n",
       "    }\n",
       "\n",
       "    .dataframe thead th {\n",
       "        text-align: right;\n",
       "    }\n",
       "</style>\n",
       "<table border=\"1\" class=\"dataframe\">\n",
       "  <thead>\n",
       "    <tr style=\"text-align: right;\">\n",
       "      <th></th>\n",
       "      <th>PAX</th>\n",
       "      <th>ano</th>\n",
       "      <th>mes</th>\n",
       "      <th>dia_semana</th>\n",
       "    </tr>\n",
       "    <tr>\n",
       "      <th>Data Venda</th>\n",
       "      <th></th>\n",
       "      <th></th>\n",
       "      <th></th>\n",
       "      <th></th>\n",
       "    </tr>\n",
       "  </thead>\n",
       "  <tbody>\n",
       "    <tr>\n",
       "      <th>2016-12-13</th>\n",
       "      <td>2714</td>\n",
       "      <td>2016</td>\n",
       "      <td>12</td>\n",
       "      <td>1</td>\n",
       "    </tr>\n",
       "    <tr>\n",
       "      <th>2017-03-24</th>\n",
       "      <td>769</td>\n",
       "      <td>2017</td>\n",
       "      <td>3</td>\n",
       "      <td>4</td>\n",
       "    </tr>\n",
       "    <tr>\n",
       "      <th>2016-12-23</th>\n",
       "      <td>238</td>\n",
       "      <td>2016</td>\n",
       "      <td>12</td>\n",
       "      <td>4</td>\n",
       "    </tr>\n",
       "    <tr>\n",
       "      <th>2016-12-18</th>\n",
       "      <td>599</td>\n",
       "      <td>2016</td>\n",
       "      <td>12</td>\n",
       "      <td>6</td>\n",
       "    </tr>\n",
       "    <tr>\n",
       "      <th>2016-11-10</th>\n",
       "      <td>2338</td>\n",
       "      <td>2016</td>\n",
       "      <td>11</td>\n",
       "      <td>3</td>\n",
       "    </tr>\n",
       "  </tbody>\n",
       "</table>\n",
       "</div>"
      ],
      "text/plain": [
       "             PAX   ano  mes  dia_semana\n",
       "Data Venda                             \n",
       "2016-12-13  2714  2016   12           1\n",
       "2017-03-24   769  2017    3           4\n",
       "2016-12-23   238  2016   12           4\n",
       "2016-12-18   599  2016   12           6\n",
       "2016-11-10  2338  2016   11           3"
      ]
     },
     "execution_count": 36,
     "metadata": {},
     "output_type": "execute_result"
    }
   ],
   "source": [
    "# adiciona colunas\n",
    "ts['ano'] = ts.index.year\n",
    "ts['mes'] = ts.index.month\n",
    "ts['dia_semana'] = ts.index.weekday\n",
    "# Display a random sampling of 5 rows\n",
    "ts.sample(5, random_state=0)"
   ]
  },
  {
   "cell_type": "code",
   "execution_count": 37,
   "metadata": {},
   "outputs": [
    {
     "data": {
      "text/html": [
       "<div>\n",
       "<style scoped>\n",
       "    .dataframe tbody tr th:only-of-type {\n",
       "        vertical-align: middle;\n",
       "    }\n",
       "\n",
       "    .dataframe tbody tr th {\n",
       "        vertical-align: top;\n",
       "    }\n",
       "\n",
       "    .dataframe thead th {\n",
       "        text-align: right;\n",
       "    }\n",
       "</style>\n",
       "<table border=\"1\" class=\"dataframe\">\n",
       "  <thead>\n",
       "    <tr style=\"text-align: right;\">\n",
       "      <th></th>\n",
       "      <th>PAX</th>\n",
       "      <th>ano</th>\n",
       "      <th>mes</th>\n",
       "      <th>dia_semana</th>\n",
       "    </tr>\n",
       "    <tr>\n",
       "      <th>Data Venda</th>\n",
       "      <th></th>\n",
       "      <th></th>\n",
       "      <th></th>\n",
       "      <th></th>\n",
       "    </tr>\n",
       "  </thead>\n",
       "  <tbody>\n",
       "    <tr>\n",
       "      <th>2016-11-01</th>\n",
       "      <td>30</td>\n",
       "      <td>2016</td>\n",
       "      <td>11</td>\n",
       "      <td>1</td>\n",
       "    </tr>\n",
       "    <tr>\n",
       "      <th>2016-11-01</th>\n",
       "      <td>52</td>\n",
       "      <td>2016</td>\n",
       "      <td>11</td>\n",
       "      <td>1</td>\n",
       "    </tr>\n",
       "    <tr>\n",
       "      <th>2016-11-01</th>\n",
       "      <td>19</td>\n",
       "      <td>2016</td>\n",
       "      <td>11</td>\n",
       "      <td>1</td>\n",
       "    </tr>\n",
       "    <tr>\n",
       "      <th>2016-11-01</th>\n",
       "      <td>496</td>\n",
       "      <td>2016</td>\n",
       "      <td>11</td>\n",
       "      <td>1</td>\n",
       "    </tr>\n",
       "    <tr>\n",
       "      <th>2016-11-01</th>\n",
       "      <td>46</td>\n",
       "      <td>2016</td>\n",
       "      <td>11</td>\n",
       "      <td>1</td>\n",
       "    </tr>\n",
       "    <tr>\n",
       "      <th>...</th>\n",
       "      <td>...</td>\n",
       "      <td>...</td>\n",
       "      <td>...</td>\n",
       "      <td>...</td>\n",
       "    </tr>\n",
       "    <tr>\n",
       "      <th>2016-11-30</th>\n",
       "      <td>62</td>\n",
       "      <td>2016</td>\n",
       "      <td>11</td>\n",
       "      <td>2</td>\n",
       "    </tr>\n",
       "    <tr>\n",
       "      <th>2016-11-30</th>\n",
       "      <td>1486</td>\n",
       "      <td>2016</td>\n",
       "      <td>11</td>\n",
       "      <td>2</td>\n",
       "    </tr>\n",
       "    <tr>\n",
       "      <th>2016-11-30</th>\n",
       "      <td>892</td>\n",
       "      <td>2016</td>\n",
       "      <td>11</td>\n",
       "      <td>2</td>\n",
       "    </tr>\n",
       "    <tr>\n",
       "      <th>2016-11-30</th>\n",
       "      <td>1984</td>\n",
       "      <td>2016</td>\n",
       "      <td>11</td>\n",
       "      <td>2</td>\n",
       "    </tr>\n",
       "    <tr>\n",
       "      <th>2016-11-30</th>\n",
       "      <td>809</td>\n",
       "      <td>2016</td>\n",
       "      <td>11</td>\n",
       "      <td>2</td>\n",
       "    </tr>\n",
       "  </tbody>\n",
       "</table>\n",
       "<p>480 rows × 4 columns</p>\n",
       "</div>"
      ],
      "text/plain": [
       "             PAX   ano  mes  dia_semana\n",
       "Data Venda                             \n",
       "2016-11-01    30  2016   11           1\n",
       "2016-11-01    52  2016   11           1\n",
       "2016-11-01    19  2016   11           1\n",
       "2016-11-01   496  2016   11           1\n",
       "2016-11-01    46  2016   11           1\n",
       "...          ...   ...  ...         ...\n",
       "2016-11-30    62  2016   11           2\n",
       "2016-11-30  1486  2016   11           2\n",
       "2016-11-30   892  2016   11           2\n",
       "2016-11-30  1984  2016   11           2\n",
       "2016-11-30   809  2016   11           2\n",
       "\n",
       "[480 rows x 4 columns]"
      ]
     },
     "execution_count": 37,
     "metadata": {},
     "output_type": "execute_result"
    }
   ],
   "source": [
    "ts.loc['2016-11']"
   ]
  },
  {
   "cell_type": "code",
   "execution_count": 38,
   "metadata": {},
   "outputs": [],
   "source": [
    "#sns.set(rc={'figure.figsize':(18, 8)})"
   ]
  },
  {
   "cell_type": "code",
   "execution_count": 39,
   "metadata": {},
   "outputs": [
    {
     "data": {
      "image/png": "[encoded data removed]",
      "text/plain": [
       "<Figure size 360x360 with 1 Axes>"
      ]
     },
     "metadata": {
      "needs_background": "light"
     },
     "output_type": "display_data"
    }
   ],
   "source": [
    "# gráfico de linha da série de tempo completa\n",
    "ts['PAX'].plot(linewidth=0.5);"
   ]
  },
  {
   "cell_type": "code",
   "execution_count": 40,
   "metadata": {},
   "outputs": [
    {
     "data": {
      "image/png": "[encoded data removed]",
      "text/plain": [
       "<Figure size 792x648 with 1 Axes>"
      ]
     },
     "metadata": {
      "needs_background": "light"
     },
     "output_type": "display_data"
    }
   ],
   "source": [
    "cols_plot = ['PAX']\n",
    "axes = ts[cols_plot].plot(marker='.', alpha=0.5, linestyle='None', figsize=(11, 9), subplots=True)\n",
    "for ax in axes:\n",
    "    ax.set_ylabel('PAX Total')"
   ]
  },
  {
   "cell_type": "markdown",
   "metadata": {},
   "source": [
    "* Há certa sazonalidade, alguns períodos se repetindo apesar de alguns picos em algumas datas (provável influência de feriados)."
   ]
  },
  {
   "cell_type": "code",
   "execution_count": 41,
   "metadata": {},
   "outputs": [
    {
     "data": {
      "text/plain": [
       "Text(0, 0.5, 'PAX')"
      ]
     },
     "execution_count": 41,
     "metadata": {},
     "output_type": "execute_result"
    },
    {
     "data": {
      "image/png": "[encoded data removed]",
      "text/plain": [
       "<Figure size 360x360 with 1 Axes>"
      ]
     },
     "metadata": {
      "needs_background": "light"
     },
     "output_type": "display_data"
    }
   ],
   "source": [
    "ax = ts.loc['2016', 'PAX'].plot()\n",
    "ax.set_ylabel('PAX')"
   ]
  },
  {
   "cell_type": "code",
   "execution_count": 42,
   "metadata": {},
   "outputs": [
    {
     "data": {
      "text/plain": [
       "Text(0, 0.5, 'PAX')"
      ]
     },
     "execution_count": 42,
     "metadata": {},
     "output_type": "execute_result"
    },
    {
     "data": {
      "image/png": "[encoded data removed]",
      "text/plain": [
       "<Figure size 360x360 with 1 Axes>"
      ]
     },
     "metadata": {
      "needs_background": "light"
     },
     "output_type": "display_data"
    }
   ],
   "source": [
    "# pico em 2016-11\n",
    "ax = ts.loc['2016-11', 'PAX'].plot(marker='o', linestyle='-')\n",
    "ax.set_ylabel('PAX')"
   ]
  },
  {
   "cell_type": "markdown",
   "metadata": {},
   "source": [
    "* Véspera de feriado."
   ]
  },
  {
   "cell_type": "code",
   "execution_count": 43,
   "metadata": {},
   "outputs": [
    {
     "data": {
      "text/plain": [
       "Text(0, 0.5, 'PAX')"
      ]
     },
     "execution_count": 43,
     "metadata": {},
     "output_type": "execute_result"
    },
    {
     "data": {
      "image/png": "[encoded data removed]",
      "text/plain": [
       "<Figure size 360x360 with 1 Axes>"
      ]
     },
     "metadata": {
      "needs_background": "light"
     },
     "output_type": "display_data"
    }
   ],
   "source": [
    "ax = ts.loc['2017', 'PAX'].plot()\n",
    "ax.set_ylabel('PAX')"
   ]
  },
  {
   "cell_type": "code",
   "execution_count": 44,
   "metadata": {},
   "outputs": [
    {
     "data": {
      "text/plain": [
       "Text(0, 0.5, 'PAX')"
      ]
     },
     "execution_count": 44,
     "metadata": {},
     "output_type": "execute_result"
    },
    {
     "data": {
      "image/png": "[encoded data removed]",
      "text/plain": [
       "<Figure size 360x360 with 1 Axes>"
      ]
     },
     "metadata": {
      "needs_background": "light"
     },
     "output_type": "display_data"
    }
   ],
   "source": [
    "# pico em 2017-01\n",
    "ax = ts.loc['2017-01', 'PAX'].plot(marker='o', linestyle='-')\n",
    "ax.set_ylabel('PAX')"
   ]
  },
  {
   "cell_type": "markdown",
   "metadata": {},
   "source": [
    "* Pico em 2017-01-09."
   ]
  },
  {
   "cell_type": "code",
   "execution_count": null,
   "metadata": {},
   "outputs": [],
   "source": []
  },
  {
   "cell_type": "code",
   "execution_count": null,
   "metadata": {},
   "outputs": [],
   "source": []
  },
  {
   "cell_type": "code",
   "execution_count": null,
   "metadata": {},
   "outputs": [],
   "source": []
  },
  {
   "cell_type": "code",
   "execution_count": null,
   "metadata": {},
   "outputs": [],
   "source": []
  },
  {
   "cell_type": "code",
   "execution_count": null,
   "metadata": {},
   "outputs": [],
   "source": []
  },
  {
   "cell_type": "code",
   "execution_count": null,
   "metadata": {},
   "outputs": [],
   "source": []
  },
  {
   "cell_type": "code",
   "execution_count": null,
   "metadata": {},
   "outputs": [],
   "source": []
  },
  {
   "cell_type": "markdown",
   "metadata": {},
   "source": [
    "### 5. Supondo que você precisa gerar um estudo para a área responsável, com base em qualquer modelo ou premissa, qual ‘Local de Venda’ você considera mais crítico. Por quê?\n",
    "[Retorna à Tabela de conteúdo](#Tabela-de-conteúdo)"
   ]
  },
  {
   "cell_type": "code",
   "execution_count": 45,
   "metadata": {},
   "outputs": [
    {
     "data": {
      "text/html": [
       "<div>\n",
       "<style scoped>\n",
       "    .dataframe tbody tr th:only-of-type {\n",
       "        vertical-align: middle;\n",
       "    }\n",
       "\n",
       "    .dataframe tbody tr th {\n",
       "        vertical-align: top;\n",
       "    }\n",
       "\n",
       "    .dataframe thead tr th {\n",
       "        text-align: left;\n",
       "    }\n",
       "\n",
       "    .dataframe thead tr:last-of-type th {\n",
       "        text-align: right;\n",
       "    }\n",
       "</style>\n",
       "<table border=\"1\" class=\"dataframe\">\n",
       "  <thead>\n",
       "    <tr>\n",
       "      <th></th>\n",
       "      <th colspan=\"3\" halign=\"left\">Monetário Vendido</th>\n",
       "    </tr>\n",
       "    <tr>\n",
       "      <th></th>\n",
       "      <th>mean</th>\n",
       "      <th>median</th>\n",
       "      <th>sum</th>\n",
       "    </tr>\n",
       "    <tr>\n",
       "      <th>Local de Venda</th>\n",
       "      <th></th>\n",
       "      <th></th>\n",
       "      <th></th>\n",
       "    </tr>\n",
       "  </thead>\n",
       "  <tbody>\n",
       "    <tr>\n",
       "      <th>Arena</th>\n",
       "      <td>31592.2506</td>\n",
       "      <td>21175.8940</td>\n",
       "      <td>19208088.3897</td>\n",
       "    </tr>\n",
       "    <tr>\n",
       "      <th>Ellipsis</th>\n",
       "      <td>18446.3899</td>\n",
       "      <td>16457.5369</td>\n",
       "      <td>11215405.0803</td>\n",
       "    </tr>\n",
       "    <tr>\n",
       "      <th>Mindscape</th>\n",
       "      <td>24242.9410</td>\n",
       "      <td>13115.2288</td>\n",
       "      <td>14739708.1499</td>\n",
       "    </tr>\n",
       "    <tr>\n",
       "      <th>Vast</th>\n",
       "      <td>24273.3804</td>\n",
       "      <td>18908.0026</td>\n",
       "      <td>14758215.2707</td>\n",
       "    </tr>\n",
       "  </tbody>\n",
       "</table>\n",
       "</div>"
      ],
      "text/plain": [
       "               Monetário Vendido                         \n",
       "                            mean     median           sum\n",
       "Local de Venda                                           \n",
       "Arena                 31592.2506 21175.8940 19208088.3897\n",
       "Ellipsis              18446.3899 16457.5369 11215405.0803\n",
       "Mindscape             24242.9410 13115.2288 14739708.1499\n",
       "Vast                  24273.3804 18908.0026 14758215.2707"
      ]
     },
     "execution_count": 45,
     "metadata": {},
     "output_type": "execute_result"
    }
   ],
   "source": [
    "# Monerário Vendido por Canal de Venda - período total\n",
    "df_.groupby('Local de Venda').agg({'Monetário Vendido': ['mean', 'median', 'sum']})"
   ]
  },
  {
   "cell_type": "code",
   "execution_count": 46,
   "metadata": {},
   "outputs": [
    {
     "data": {
      "text/plain": [
       "<matplotlib.axes._subplots.AxesSubplot at 0x7f9f40f95550>"
      ]
     },
     "execution_count": 46,
     "metadata": {},
     "output_type": "execute_result"
    },
    {
     "data": {
      "image/png": "[encoded data removed]",
      "text/plain": [
       "<Figure size 360x360 with 1 Axes>"
      ]
     },
     "metadata": {
      "needs_background": "light"
     },
     "output_type": "display_data"
    }
   ],
   "source": [
    "sns.barplot(x='Local de Venda', y='Monetário Vendido', data=df_)"
   ]
  },
  {
   "cell_type": "markdown",
   "metadata": {},
   "source": [
    "* O local de venda mais crítico é Ellipsis, possui um total de vendas no período mais baixo comparando-o com os outros locais."
   ]
  },
  {
   "cell_type": "markdown",
   "metadata": {},
   "source": [
    "### 6. Criar modelo relacionando o comportamento de venda com variáveis não apresentadas nos dados (Ex: PIB, Dolar, etc.)\n",
    "[Retorna à Tabela de conteúdo](#Tabela-de-conteúdo)"
   ]
  },
  {
   "cell_type": "code",
   "execution_count": 47,
   "metadata": {},
   "outputs": [],
   "source": [
    "# cria ano\n",
    "df_['ano'] = df['Data Venda'].dt.year"
   ]
  },
  {
   "cell_type": "code",
   "execution_count": 48,
   "metadata": {},
   "outputs": [
    {
     "data": {
      "text/plain": [
       "[2016, 2017]"
      ]
     },
     "execution_count": 48,
     "metadata": {},
     "output_type": "execute_result"
    }
   ],
   "source": [
    "# lista anos \n",
    "df_['ano'].unique().tolist()"
   ]
  },
  {
   "cell_type": "code",
   "execution_count": 49,
   "metadata": {},
   "outputs": [
    {
     "data": {
      "text/plain": [
       "[11, 12, 1, 2, 3, 4]"
      ]
     },
     "execution_count": 49,
     "metadata": {},
     "output_type": "execute_result"
    }
   ],
   "source": [
    "# lista meses \n",
    "df_['mês'].unique().tolist()"
   ]
  },
  {
   "cell_type": "code",
   "execution_count": 50,
   "metadata": {},
   "outputs": [],
   "source": [
    "# https://economia.acspservicos.com.br/indicadores_iegv/iegv_dolar.html\n",
    "## dict = {mês: dólar}\n",
    "dolar_2016 = {1: 4.054, 2: 3.978, 3: 3.694, 4: 3.551, 11: 3.339, 12: 3.351}\n",
    "dolar_2017 = {1: 3.197, 2: 3.103, 3: 3.127, 4: 3.140, 11: 3.257, 12: 3.297} \n",
    "\n",
    "# cria coluna dólar\n",
    "for d in df_['ano']:\n",
    "    if df_['ano'][d] == 2016:\n",
    "        df_['dólar'] = df_['mês'].map(dolar_2016)\n",
    "    else:\n",
    "        df_['dólar'] = df_['mês'].map(dolar_2017)"
   ]
  },
  {
   "cell_type": "code",
   "execution_count": 51,
   "metadata": {},
   "outputs": [],
   "source": [
    "# https://www.ibge.gov.br/estatisticas/economicas/precos-e-custos/9256-indice-nacional-de-precos-ao-consumidor-amplo.html?=&t=series-historicas\n",
    "## dict = {mês: ipca(%)}\n",
    "ipca_2016 = {1: 1.27, 2: 0.90, 3: 0.43, 4: 0.61, 11: 0.18, 12: 0.30}\n",
    "ipca_2017 = {1: 0.38, 2: 0.33, 3: 0.25, 4: 0.14, 11: 0.28, 12: 0.44}\n",
    "\n",
    "# cria coluna ipca\n",
    "for i in df_['ano']:\n",
    "    if df_['ano'][i] == 2016:\n",
    "        df_['ipca'] = df_['mês'].map(ipca_2016)\n",
    "    else:\n",
    "        df_['ipca'] = df_['mês'].map(ipca_2017)"
   ]
  },
  {
   "cell_type": "code",
   "execution_count": 52,
   "metadata": {},
   "outputs": [
    {
     "data": {
      "text/html": [
       "<div>\n",
       "<style scoped>\n",
       "    .dataframe tbody tr th:only-of-type {\n",
       "        vertical-align: middle;\n",
       "    }\n",
       "\n",
       "    .dataframe tbody tr th {\n",
       "        vertical-align: top;\n",
       "    }\n",
       "\n",
       "    .dataframe thead th {\n",
       "        text-align: right;\n",
       "    }\n",
       "</style>\n",
       "<table border=\"1\" class=\"dataframe\">\n",
       "  <thead>\n",
       "    <tr style=\"text-align: right;\">\n",
       "      <th></th>\n",
       "      <th>Data Venda</th>\n",
       "      <th>Canal de Venda</th>\n",
       "      <th>Local de Venda</th>\n",
       "      <th>PAX</th>\n",
       "      <th>Monetário Vendido</th>\n",
       "      <th>RPK</th>\n",
       "      <th>dia_semana</th>\n",
       "      <th>dia_semana_num</th>\n",
       "      <th>mês</th>\n",
       "      <th>ano</th>\n",
       "      <th>dólar</th>\n",
       "      <th>ipca</th>\n",
       "    </tr>\n",
       "  </thead>\n",
       "  <tbody>\n",
       "    <tr>\n",
       "      <th>1641</th>\n",
       "      <td>2017-02-11</td>\n",
       "      <td>Porta a Porta</td>\n",
       "      <td>Arena</td>\n",
       "      <td>732</td>\n",
       "      <td>31157.2536</td>\n",
       "      <td>110137</td>\n",
       "      <td>sábado</td>\n",
       "      <td>5</td>\n",
       "      <td>2</td>\n",
       "      <td>2017</td>\n",
       "      <td>3.1030</td>\n",
       "      <td>0.3300</td>\n",
       "    </tr>\n",
       "    <tr>\n",
       "      <th>1226</th>\n",
       "      <td>2017-01-16</td>\n",
       "      <td>Telégrafo</td>\n",
       "      <td>Arena</td>\n",
       "      <td>84</td>\n",
       "      <td>4775.1901</td>\n",
       "      <td>12513</td>\n",
       "      <td>segunda-feira</td>\n",
       "      <td>0</td>\n",
       "      <td>1</td>\n",
       "      <td>2017</td>\n",
       "      <td>3.1970</td>\n",
       "      <td>0.3800</td>\n",
       "    </tr>\n",
       "    <tr>\n",
       "      <th>16</th>\n",
       "      <td>2016-11-02</td>\n",
       "      <td>TeleVenda</td>\n",
       "      <td>Ellipsis</td>\n",
       "      <td>1007</td>\n",
       "      <td>29177.2330</td>\n",
       "      <td>54696</td>\n",
       "      <td>quarta-feira</td>\n",
       "      <td>2</td>\n",
       "      <td>11</td>\n",
       "      <td>2016</td>\n",
       "      <td>3.2570</td>\n",
       "      <td>0.2800</td>\n",
       "    </tr>\n",
       "  </tbody>\n",
       "</table>\n",
       "</div>"
      ],
      "text/plain": [
       "     Data Venda Canal de Venda Local de Venda   PAX  Monetário Vendido  \\\n",
       "1641 2017-02-11  Porta a Porta          Arena   732         31157.2536   \n",
       "1226 2017-01-16      Telégrafo          Arena    84          4775.1901   \n",
       "16   2016-11-02      TeleVenda       Ellipsis  1007         29177.2330   \n",
       "\n",
       "         RPK     dia_semana  dia_semana_num  mês   ano  dólar   ipca  \n",
       "1641  110137         sábado               5    2  2017 3.1030 0.3300  \n",
       "1226   12513  segunda-feira               0    1  2017 3.1970 0.3800  \n",
       "16     54696   quarta-feira               2   11  2016 3.2570 0.2800  "
      ]
     },
     "execution_count": 52,
     "metadata": {},
     "output_type": "execute_result"
    }
   ],
   "source": [
    "df_.sample(3)"
   ]
  },
  {
   "cell_type": "code",
   "execution_count": 53,
   "metadata": {},
   "outputs": [
    {
     "data": {
      "text/html": [
       "<div>\n",
       "<style scoped>\n",
       "    .dataframe tbody tr th:only-of-type {\n",
       "        vertical-align: middle;\n",
       "    }\n",
       "\n",
       "    .dataframe tbody tr th {\n",
       "        vertical-align: top;\n",
       "    }\n",
       "\n",
       "    .dataframe thead th {\n",
       "        text-align: right;\n",
       "    }\n",
       "</style>\n",
       "<table border=\"1\" class=\"dataframe\">\n",
       "  <thead>\n",
       "    <tr style=\"text-align: right;\">\n",
       "      <th></th>\n",
       "      <th>Monetário Vendido</th>\n",
       "      <th>mês</th>\n",
       "      <th>ano</th>\n",
       "      <th>dólar</th>\n",
       "      <th>ipca</th>\n",
       "    </tr>\n",
       "  </thead>\n",
       "  <tbody>\n",
       "    <tr>\n",
       "      <th>count</th>\n",
       "      <td>2432.0000</td>\n",
       "      <td>2432.0000</td>\n",
       "      <td>2432.0000</td>\n",
       "      <td>2432.0000</td>\n",
       "      <td>2432.0000</td>\n",
       "    </tr>\n",
       "    <tr>\n",
       "      <th>mean</th>\n",
       "      <td>24638.7405</td>\n",
       "      <td>5.8289</td>\n",
       "      <td>2016.5987</td>\n",
       "      <td>3.1973</td>\n",
       "      <td>0.3352</td>\n",
       "    </tr>\n",
       "    <tr>\n",
       "      <th>std</th>\n",
       "      <td>22424.8429</td>\n",
       "      <td>4.7079</td>\n",
       "      <td>0.4903</td>\n",
       "      <td>0.0735</td>\n",
       "      <td>0.0706</td>\n",
       "    </tr>\n",
       "    <tr>\n",
       "      <th>min</th>\n",
       "      <td>1041.5444</td>\n",
       "      <td>1.0000</td>\n",
       "      <td>2016.0000</td>\n",
       "      <td>3.1030</td>\n",
       "      <td>0.1400</td>\n",
       "    </tr>\n",
       "    <tr>\n",
       "      <th>25%</th>\n",
       "      <td>6122.9205</td>\n",
       "      <td>2.0000</td>\n",
       "      <td>2016.0000</td>\n",
       "      <td>3.1270</td>\n",
       "      <td>0.2800</td>\n",
       "    </tr>\n",
       "    <tr>\n",
       "      <th>50%</th>\n",
       "      <td>17755.4217</td>\n",
       "      <td>3.0000</td>\n",
       "      <td>2017.0000</td>\n",
       "      <td>3.1970</td>\n",
       "      <td>0.3300</td>\n",
       "    </tr>\n",
       "    <tr>\n",
       "      <th>75%</th>\n",
       "      <td>35535.3240</td>\n",
       "      <td>11.0000</td>\n",
       "      <td>2017.0000</td>\n",
       "      <td>3.2570</td>\n",
       "      <td>0.3800</td>\n",
       "    </tr>\n",
       "    <tr>\n",
       "      <th>max</th>\n",
       "      <td>144890.7311</td>\n",
       "      <td>12.0000</td>\n",
       "      <td>2017.0000</td>\n",
       "      <td>3.2970</td>\n",
       "      <td>0.4400</td>\n",
       "    </tr>\n",
       "  </tbody>\n",
       "</table>\n",
       "</div>"
      ],
      "text/plain": [
       "       Monetário Vendido       mês       ano     dólar      ipca\n",
       "count          2432.0000 2432.0000 2432.0000 2432.0000 2432.0000\n",
       "mean          24638.7405    5.8289 2016.5987    3.1973    0.3352\n",
       "std           22424.8429    4.7079    0.4903    0.0735    0.0706\n",
       "min            1041.5444    1.0000 2016.0000    3.1030    0.1400\n",
       "25%            6122.9205    2.0000 2016.0000    3.1270    0.2800\n",
       "50%           17755.4217    3.0000 2017.0000    3.1970    0.3300\n",
       "75%           35535.3240   11.0000 2017.0000    3.2570    0.3800\n",
       "max          144890.7311   12.0000 2017.0000    3.2970    0.4400"
      ]
     },
     "execution_count": 53,
     "metadata": {},
     "output_type": "execute_result"
    }
   ],
   "source": [
    "df_[['Monetário Vendido','mês', 'ano', 'dólar', 'ipca']].describe()"
   ]
  },
  {
   "cell_type": "code",
   "execution_count": 54,
   "metadata": {},
   "outputs": [
    {
     "data": {
      "text/html": [
       "<div>\n",
       "<style scoped>\n",
       "    .dataframe tbody tr th:only-of-type {\n",
       "        vertical-align: middle;\n",
       "    }\n",
       "\n",
       "    .dataframe tbody tr th {\n",
       "        vertical-align: top;\n",
       "    }\n",
       "\n",
       "    .dataframe thead th {\n",
       "        text-align: right;\n",
       "    }\n",
       "</style>\n",
       "<table border=\"1\" class=\"dataframe\">\n",
       "  <thead>\n",
       "    <tr style=\"text-align: right;\">\n",
       "      <th></th>\n",
       "      <th>Monetário Vendido</th>\n",
       "      <th>mês</th>\n",
       "      <th>ano</th>\n",
       "      <th>dólar</th>\n",
       "      <th>ipca</th>\n",
       "    </tr>\n",
       "  </thead>\n",
       "  <tbody>\n",
       "    <tr>\n",
       "      <th>Monetário Vendido</th>\n",
       "      <td>1.0000</td>\n",
       "      <td>-0.0310</td>\n",
       "      <td>0.0283</td>\n",
       "      <td>-0.0304</td>\n",
       "      <td>-0.0357</td>\n",
       "    </tr>\n",
       "    <tr>\n",
       "      <th>mês</th>\n",
       "      <td>-0.0310</td>\n",
       "      <td>1.0000</td>\n",
       "      <td>-0.9879</td>\n",
       "      <td>0.8515</td>\n",
       "      <td>0.2606</td>\n",
       "    </tr>\n",
       "    <tr>\n",
       "      <th>ano</th>\n",
       "      <td>0.0283</td>\n",
       "      <td>-0.9879</td>\n",
       "      <td>1.0000</td>\n",
       "      <td>-0.8921</td>\n",
       "      <td>-0.3028</td>\n",
       "    </tr>\n",
       "    <tr>\n",
       "      <th>dólar</th>\n",
       "      <td>-0.0304</td>\n",
       "      <td>0.8515</td>\n",
       "      <td>-0.8921</td>\n",
       "      <td>1.0000</td>\n",
       "      <td>0.5519</td>\n",
       "    </tr>\n",
       "    <tr>\n",
       "      <th>ipca</th>\n",
       "      <td>-0.0357</td>\n",
       "      <td>0.2606</td>\n",
       "      <td>-0.3028</td>\n",
       "      <td>0.5519</td>\n",
       "      <td>1.0000</td>\n",
       "    </tr>\n",
       "  </tbody>\n",
       "</table>\n",
       "</div>"
      ],
      "text/plain": [
       "                   Monetário Vendido     mês     ano   dólar    ipca\n",
       "Monetário Vendido             1.0000 -0.0310  0.0283 -0.0304 -0.0357\n",
       "mês                          -0.0310  1.0000 -0.9879  0.8515  0.2606\n",
       "ano                           0.0283 -0.9879  1.0000 -0.8921 -0.3028\n",
       "dólar                        -0.0304  0.8515 -0.8921  1.0000  0.5519\n",
       "ipca                         -0.0357  0.2606 -0.3028  0.5519  1.0000"
      ]
     },
     "execution_count": 54,
     "metadata": {},
     "output_type": "execute_result"
    }
   ],
   "source": [
    "corr = df_[['Monetário Vendido','mês', 'ano', 'dólar', 'ipca']].corr()\n",
    "corr"
   ]
  },
  {
   "cell_type": "code",
   "execution_count": 55,
   "metadata": {},
   "outputs": [
    {
     "data": {
      "text/plain": [
       "<seaborn.matrix.ClusterGrid at 0x7f9f40d41470>"
      ]
     },
     "execution_count": 55,
     "metadata": {},
     "output_type": "execute_result"
    },
    {
     "data": {
      "image/png": "[encoded data removed]",
      "text/plain": [
       "<Figure size 432x432 with 4 Axes>"
      ]
     },
     "metadata": {
      "needs_background": "light"
     },
     "output_type": "display_data"
    }
   ],
   "source": [
    "sns.clustermap(corr, cmap='Oranges', annot = True, figsize=(6, 6))"
   ]
  },
  {
   "cell_type": "code",
   "execution_count": 56,
   "metadata": {},
   "outputs": [],
   "source": [
    "#df_['PAX'].to_csv('pax.txt', sep='\\t', index=False, header=False)"
   ]
  },
  {
   "cell_type": "code",
   "execution_count": null,
   "metadata": {},
   "outputs": [],
   "source": []
  }
 ],
 "metadata": {
  "kernelspec": {
   "display_name": "Python 3",
   "language": "python",
   "name": "python3"
  },
  "language_info": {
   "codemirror_mode": {
    "name": "ipython",
    "version": 3
   },
   "file_extension": ".py",
   "mimetype": "text/x-python",
   "name": "python",
   "nbconvert_exporter": "python",
   "pygments_lexer": "ipython3",
   "version": "3.6.9"
  }
 },
 "nbformat": 4,
 "nbformat_minor": 4
}
