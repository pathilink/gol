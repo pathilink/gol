{
 "cells": [
  {
   "cell_type": "markdown",
   "metadata": {},
   "source": [
    "# <font color='FF6F1F'>Case Gol</font>\n",
    "\n",
    "## <font color='FF6F1F'>Respostas às perguntas de interesse</font>"
   ]
  },
  {
   "cell_type": "markdown",
   "metadata": {},
   "source": [
    "# Tabela de conteúdo\n",
    "\n",
    "[1. Informação básica](#1.-Informação-básica)\n",
    "\n",
    "[2. Bibliotecas](#2.-Bibliotecas)\n",
    "\n",
    "[3. Dados](#3.-Dados)\n",
    "\n",
    "[4. Perguntas](#4.-Perguntas)\n",
    "\n",
    "* [1. Faça um ranking para o número total de PAX por dia da semana.](#1.-Faça-um-ranking-para-o-número-total-de-PAX-por-dia-da-semana.)\n",
    "\n",
    "* [2. Qual a correlação de sábado e domingo somados com o total de RPK?](#2.-Qual-a-correlação-de-sábado-e-domingo-somados-com-o-total-de-RPK?)\n",
    "\n",
    "* [3. Qual a média de ‘Monetário’ por mês por Canal? E a mediana?](#3.-Qual-a-média-de-‘Monetário’-por-mês-por-Canal?-E-a-mediana?)\n",
    "\n",
    "* [4. Crie um forecast de PAX por ‘Local de Venda’ para os próximos 15 dias a contar da última data de venda.](#4.-Crie-um-forecast-de-PAX-por-‘Local-de-Venda’-para-os-próximos-15-dias-a-contar-da-última-data-de-venda.)\n",
    "\n",
    "* [5. Supondo que você precisa gerar um estudo para a área responsável, com base em qualquer modelo ou premissa, qual ‘Local de Venda’ você considera mais crítico. Por quê?](#5.-Supondo-que-você-precisa-gerar-um-estudo-para-a-área-responsável,-com-base-em-qualquer-modelo-ou-premissa,-qual-‘Local-de-Venda’-você-considera-mais-crítico.-Por-quê?)\n",
    "\n",
    "* [6. Criar modelo relacionando o comportamento de venda com variáveis não apresentadas nos dados (Ex: PIB, Dolar, etc.)](#6.-Criar-modelo-relacionando-o-comportamento-de-venda-com-variáveis-não-apresentadas-nos-dados-(Ex:-PIB,-Dolar,-etc.))\n"
   ]
  },
  {
   "cell_type": "markdown",
   "metadata": {},
   "source": [
    "## 1. Informação básica\n",
    "[Retorna à Tabela de conteúdo](#Tabela-de-conteúdo)"
   ]
  },
  {
   "cell_type": "markdown",
   "metadata": {},
   "source": [
    "**Fonte:** Gol\n",
    "\n",
    "**Descrição das colunas:**\n",
    "\n",
    "| Variável | Descrição | Tipo |  \n",
    "|:---|:---|:---|\n",
    "| Data Venda | Data (AAAA-MM-DD) | Data |\n",
    "| Canal de Venda | Canais de venda. | Nominal |\n",
    "| Local de Venda | Locais de venda. | Nominal |\n",
    "| PAX | Total de passageiros. | Discreto |\n",
    "| Monetário Vendido | Valores da venda. | Contínuo |\n",
    "| RPK | Indicador diretamente relacionado com o número de PAX. | Discreto |"
   ]
  },
  {
   "cell_type": "markdown",
   "metadata": {},
   "source": [
    "## 2. Bibliotecas\n",
    "[Retorna à Tabela de conteúdo](#Tabela-de-conteúdo)"
   ]
  },
  {
   "cell_type": "code",
   "execution_count": 1,
   "metadata": {},
   "outputs": [],
   "source": [
    "import pandas as pd # dataframe\n",
    "import numpy as np # numeric\n",
    "import seaborn as sns # graph\n",
    "from matplotlib import pyplot as plt # plot"
   ]
  },
  {
   "cell_type": "markdown",
   "metadata": {},
   "source": [
    "## 3. Dados\n",
    "[Retorna à Tabela de conteúdo](#Tabela-de-conteúdo)"
   ]
  },
  {
   "cell_type": "code",
   "execution_count": 2,
   "metadata": {},
   "outputs": [],
   "source": [
    "# suprime a notação científica\n",
    "pd.set_option('display.float_format', lambda x: '%.4f' % x)"
   ]
  },
  {
   "cell_type": "code",
   "execution_count": 3,
   "metadata": {},
   "outputs": [],
   "source": [
    "df = pd.read_excel('case_analytics-ds.xlsx', sheet_name='Dados')"
   ]
  },
  {
   "cell_type": "code",
   "execution_count": 4,
   "metadata": {},
   "outputs": [
    {
     "data": {
      "text/html": [
       "<div>\n",
       "<style scoped>\n",
       "    .dataframe tbody tr th:only-of-type {\n",
       "        vertical-align: middle;\n",
       "    }\n",
       "\n",
       "    .dataframe tbody tr th {\n",
       "        vertical-align: top;\n",
       "    }\n",
       "\n",
       "    .dataframe thead th {\n",
       "        text-align: right;\n",
       "    }\n",
       "</style>\n",
       "<table border=\"1\" class=\"dataframe\">\n",
       "  <thead>\n",
       "    <tr style=\"text-align: right;\">\n",
       "      <th></th>\n",
       "      <th>Data Venda</th>\n",
       "      <th>Canal de Venda</th>\n",
       "      <th>Local de Venda</th>\n",
       "      <th>PAX</th>\n",
       "      <th>Monetário Vendido</th>\n",
       "      <th>RPK</th>\n",
       "    </tr>\n",
       "  </thead>\n",
       "  <tbody>\n",
       "    <tr>\n",
       "      <th>608</th>\n",
       "      <td>2016-12-09</td>\n",
       "      <td>Telégrafo</td>\n",
       "      <td>Vast</td>\n",
       "      <td>65</td>\n",
       "      <td>2621.2220</td>\n",
       "      <td>3102</td>\n",
       "    </tr>\n",
       "    <tr>\n",
       "      <th>2213</th>\n",
       "      <td>2017-03-19</td>\n",
       "      <td>Porta a Porta</td>\n",
       "      <td>Arena</td>\n",
       "      <td>916</td>\n",
       "      <td>38324.3133</td>\n",
       "      <td>132375</td>\n",
       "    </tr>\n",
       "    <tr>\n",
       "      <th>1060</th>\n",
       "      <td>2017-01-06</td>\n",
       "      <td>TeleVenda</td>\n",
       "      <td>Vast</td>\n",
       "      <td>325</td>\n",
       "      <td>19295.1918</td>\n",
       "      <td>15576</td>\n",
       "    </tr>\n",
       "    <tr>\n",
       "      <th>1714</th>\n",
       "      <td>2017-02-16</td>\n",
       "      <td>Telégrafo</td>\n",
       "      <td>Mindscape</td>\n",
       "      <td>82</td>\n",
       "      <td>5210.7499</td>\n",
       "      <td>9507</td>\n",
       "    </tr>\n",
       "    <tr>\n",
       "      <th>685</th>\n",
       "      <td>2016-12-13</td>\n",
       "      <td>Telégrafo</td>\n",
       "      <td>Mindscape</td>\n",
       "      <td>70</td>\n",
       "      <td>2840.3579</td>\n",
       "      <td>9501</td>\n",
       "    </tr>\n",
       "  </tbody>\n",
       "</table>\n",
       "</div>"
      ],
      "text/plain": [
       "     Data Venda Canal de Venda Local de Venda  PAX  Monetário Vendido     RPK\n",
       "608  2016-12-09      Telégrafo           Vast   65          2621.2220    3102\n",
       "2213 2017-03-19  Porta a Porta          Arena  916         38324.3133  132375\n",
       "1060 2017-01-06      TeleVenda           Vast  325         19295.1918   15576\n",
       "1714 2017-02-16      Telégrafo      Mindscape   82          5210.7499    9507\n",
       "685  2016-12-13      Telégrafo      Mindscape   70          2840.3579    9501"
      ]
     },
     "execution_count": 4,
     "metadata": {},
     "output_type": "execute_result"
    }
   ],
   "source": [
    "df.sample(5)"
   ]
  },
  {
   "cell_type": "code",
   "execution_count": 5,
   "metadata": {},
   "outputs": [
    {
     "name": "stdout",
     "output_type": "stream",
     "text": [
      "<class 'pandas.core.frame.DataFrame'>\n",
      "RangeIndex: 2432 entries, 0 to 2431\n",
      "Data columns (total 6 columns):\n",
      " #   Column             Non-Null Count  Dtype         \n",
      "---  ------             --------------  -----         \n",
      " 0   Data Venda         2432 non-null   datetime64[ns]\n",
      " 1   Canal de Venda     2432 non-null   object        \n",
      " 2   Local de Venda     2432 non-null   object        \n",
      " 3   PAX                2432 non-null   int64         \n",
      " 4   Monetário Vendido  2432 non-null   float64       \n",
      " 5   RPK                2432 non-null   int64         \n",
      "dtypes: datetime64[ns](1), float64(1), int64(2), object(2)\n",
      "memory usage: 114.1+ KB\n"
     ]
    }
   ],
   "source": [
    "df.info()"
   ]
  },
  {
   "cell_type": "code",
   "execution_count": 6,
   "metadata": {},
   "outputs": [
    {
     "name": "stdout",
     "output_type": "stream",
     "text": [
      "O dataframe possui 2432 linhas e 6 colunas.\n"
     ]
    }
   ],
   "source": [
    "print(f'O dataframe possui {df.shape[0]} linhas e {df.shape[1]} colunas.')"
   ]
  },
  {
   "cell_type": "code",
   "execution_count": 7,
   "metadata": {},
   "outputs": [
    {
     "data": {
      "text/html": [
       "<div>\n",
       "<style scoped>\n",
       "    .dataframe tbody tr th:only-of-type {\n",
       "        vertical-align: middle;\n",
       "    }\n",
       "\n",
       "    .dataframe tbody tr th {\n",
       "        vertical-align: top;\n",
       "    }\n",
       "\n",
       "    .dataframe thead th {\n",
       "        text-align: right;\n",
       "    }\n",
       "</style>\n",
       "<table border=\"1\" class=\"dataframe\">\n",
       "  <thead>\n",
       "    <tr style=\"text-align: right;\">\n",
       "      <th></th>\n",
       "      <th>Total</th>\n",
       "      <th>Porcentagem</th>\n",
       "    </tr>\n",
       "  </thead>\n",
       "  <tbody>\n",
       "    <tr>\n",
       "      <th>RPK</th>\n",
       "      <td>0</td>\n",
       "      <td>0.0000</td>\n",
       "    </tr>\n",
       "    <tr>\n",
       "      <th>Monetário Vendido</th>\n",
       "      <td>0</td>\n",
       "      <td>0.0000</td>\n",
       "    </tr>\n",
       "    <tr>\n",
       "      <th>PAX</th>\n",
       "      <td>0</td>\n",
       "      <td>0.0000</td>\n",
       "    </tr>\n",
       "    <tr>\n",
       "      <th>Local de Venda</th>\n",
       "      <td>0</td>\n",
       "      <td>0.0000</td>\n",
       "    </tr>\n",
       "    <tr>\n",
       "      <th>Canal de Venda</th>\n",
       "      <td>0</td>\n",
       "      <td>0.0000</td>\n",
       "    </tr>\n",
       "    <tr>\n",
       "      <th>Data Venda</th>\n",
       "      <td>0</td>\n",
       "      <td>0.0000</td>\n",
       "    </tr>\n",
       "  </tbody>\n",
       "</table>\n",
       "</div>"
      ],
      "text/plain": [
       "                   Total  Porcentagem\n",
       "RPK                    0       0.0000\n",
       "Monetário Vendido      0       0.0000\n",
       "PAX                    0       0.0000\n",
       "Local de Venda         0       0.0000\n",
       "Canal de Venda         0       0.0000\n",
       "Data Venda             0       0.0000"
      ]
     },
     "execution_count": 7,
     "metadata": {},
     "output_type": "execute_result"
    }
   ],
   "source": [
    "# Dados faltantes\n",
    "total = df.isnull().sum().sort_values(ascending=False)\n",
    "porcentagem = (df.isnull().sum()/df.isnull().count()).sort_values(ascending=False)\n",
    "faltante = pd.concat([total, porcentagem], axis=1, keys=['Total', 'Porcentagem'])\n",
    "faltante.head(45)"
   ]
  },
  {
   "cell_type": "markdown",
   "metadata": {},
   "source": [
    "* Não há dados faltantes."
   ]
  },
  {
   "cell_type": "code",
   "execution_count": 8,
   "metadata": {},
   "outputs": [
    {
     "data": {
      "text/plain": [
       "['Telégrafo', 'TeleVenda', 'Porta a Porta']"
      ]
     },
     "execution_count": 8,
     "metadata": {},
     "output_type": "execute_result"
    }
   ],
   "source": [
    "# lista dos canais de venda\n",
    "df['Canal de Venda'].unique().tolist()"
   ]
  },
  {
   "cell_type": "code",
   "execution_count": 9,
   "metadata": {},
   "outputs": [
    {
     "data": {
      "text/plain": [
       "['Mindscape', 'Arena', 'Vast', 'Ellipsis']"
      ]
     },
     "execution_count": 9,
     "metadata": {},
     "output_type": "execute_result"
    }
   ],
   "source": [
    "# lista dos locais de venda\n",
    "df['Local de Venda'].unique().tolist()"
   ]
  },
  {
   "cell_type": "code",
   "execution_count": 10,
   "metadata": {},
   "outputs": [
    {
     "data": {
      "text/html": [
       "<div>\n",
       "<style scoped>\n",
       "    .dataframe tbody tr th:only-of-type {\n",
       "        vertical-align: middle;\n",
       "    }\n",
       "\n",
       "    .dataframe tbody tr th {\n",
       "        vertical-align: top;\n",
       "    }\n",
       "\n",
       "    .dataframe thead th {\n",
       "        text-align: right;\n",
       "    }\n",
       "</style>\n",
       "<table border=\"1\" class=\"dataframe\">\n",
       "  <thead>\n",
       "    <tr style=\"text-align: right;\">\n",
       "      <th></th>\n",
       "      <th>PAX</th>\n",
       "      <th>Monetário Vendido</th>\n",
       "      <th>RPK</th>\n",
       "    </tr>\n",
       "  </thead>\n",
       "  <tbody>\n",
       "    <tr>\n",
       "      <th>count</th>\n",
       "      <td>2432.0000</td>\n",
       "      <td>2432.0000</td>\n",
       "      <td>2432.0000</td>\n",
       "    </tr>\n",
       "    <tr>\n",
       "      <th>mean</th>\n",
       "      <td>723.0029</td>\n",
       "      <td>24638.7405</td>\n",
       "      <td>66738.3894</td>\n",
       "    </tr>\n",
       "    <tr>\n",
       "      <th>std</th>\n",
       "      <td>735.9365</td>\n",
       "      <td>22424.8429</td>\n",
       "      <td>83479.0395</td>\n",
       "    </tr>\n",
       "    <tr>\n",
       "      <th>min</th>\n",
       "      <td>18.0000</td>\n",
       "      <td>1041.5444</td>\n",
       "      <td>1127.0000</td>\n",
       "    </tr>\n",
       "    <tr>\n",
       "      <th>25%</th>\n",
       "      <td>100.0000</td>\n",
       "      <td>6122.9205</td>\n",
       "      <td>11372.0000</td>\n",
       "    </tr>\n",
       "    <tr>\n",
       "      <th>50%</th>\n",
       "      <td>395.5000</td>\n",
       "      <td>17755.4217</td>\n",
       "      <td>33361.5000</td>\n",
       "    </tr>\n",
       "    <tr>\n",
       "      <th>75%</th>\n",
       "      <td>1160.2500</td>\n",
       "      <td>35535.3240</td>\n",
       "      <td>95116.7500</td>\n",
       "    </tr>\n",
       "    <tr>\n",
       "      <th>max</th>\n",
       "      <td>4705.0000</td>\n",
       "      <td>144890.7311</td>\n",
       "      <td>695824.0000</td>\n",
       "    </tr>\n",
       "  </tbody>\n",
       "</table>\n",
       "</div>"
      ],
      "text/plain": [
       "            PAX  Monetário Vendido         RPK\n",
       "count 2432.0000          2432.0000   2432.0000\n",
       "mean   723.0029         24638.7405  66738.3894\n",
       "std    735.9365         22424.8429  83479.0395\n",
       "min     18.0000          1041.5444   1127.0000\n",
       "25%    100.0000          6122.9205  11372.0000\n",
       "50%    395.5000         17755.4217  33361.5000\n",
       "75%   1160.2500         35535.3240  95116.7500\n",
       "max   4705.0000        144890.7311 695824.0000"
      ]
     },
     "execution_count": 10,
     "metadata": {},
     "output_type": "execute_result"
    }
   ],
   "source": [
    "df.describe()"
   ]
  },
  {
   "cell_type": "markdown",
   "metadata": {},
   "source": [
    "## 4. Perguntas\n",
    "[Retorna à Tabela de conteúdo](#Tabela-de-conteúdo)"
   ]
  },
  {
   "cell_type": "markdown",
   "metadata": {},
   "source": [
    "### 1. Faça um ranking para o número total de PAX por dia da semana.\n",
    "[Retorna à Tabela de conteúdo](#Tabela-de-conteúdo)"
   ]
  },
  {
   "cell_type": "code",
   "execution_count": 11,
   "metadata": {},
   "outputs": [],
   "source": [
    "# cópia do dataframe\n",
    "df_ = df.copy()"
   ]
  },
  {
   "cell_type": "code",
   "execution_count": 12,
   "metadata": {},
   "outputs": [],
   "source": [
    "# cria dia da semana\n",
    "df_['dia_semana'] = df_['Data Venda'].dt.day_name()"
   ]
  },
  {
   "cell_type": "code",
   "execution_count": 13,
   "metadata": {},
   "outputs": [],
   "source": [
    "# en --> pt\n",
    "df_.loc[df_['dia_semana'] == 'Monday', 'dia_semana'] = 'segunda-feira'\n",
    "df_.loc[df_['dia_semana'] == 'Tuesday', 'dia_semana'] = 'terça-feira'\n",
    "df_.loc[df_['dia_semana'] == 'Wednesday', 'dia_semana'] = 'quarta-feira'\n",
    "df_.loc[df_['dia_semana'] == 'Thursday', 'dia_semana'] = 'quinta-feira'\n",
    "df_.loc[df_['dia_semana'] == 'Friday', 'dia_semana'] = 'sexta-feira'\n",
    "df_.loc[df_['dia_semana'] == 'Saturday', 'dia_semana'] = 'sábado'\n",
    "df_.loc[df_['dia_semana'] == 'Sunday', 'dia_semana'] = 'domingo'"
   ]
  },
  {
   "cell_type": "code",
   "execution_count": 14,
   "metadata": {},
   "outputs": [
    {
     "data": {
      "text/html": [
       "<div>\n",
       "<style scoped>\n",
       "    .dataframe tbody tr th:only-of-type {\n",
       "        vertical-align: middle;\n",
       "    }\n",
       "\n",
       "    .dataframe tbody tr th {\n",
       "        vertical-align: top;\n",
       "    }\n",
       "\n",
       "    .dataframe thead th {\n",
       "        text-align: right;\n",
       "    }\n",
       "</style>\n",
       "<table border=\"1\" class=\"dataframe\">\n",
       "  <thead>\n",
       "    <tr style=\"text-align: right;\">\n",
       "      <th></th>\n",
       "      <th>Data Venda</th>\n",
       "      <th>Canal de Venda</th>\n",
       "      <th>Local de Venda</th>\n",
       "      <th>PAX</th>\n",
       "      <th>Monetário Vendido</th>\n",
       "      <th>RPK</th>\n",
       "      <th>dia_semana</th>\n",
       "    </tr>\n",
       "  </thead>\n",
       "  <tbody>\n",
       "    <tr>\n",
       "      <th>1486</th>\n",
       "      <td>2017-02-01</td>\n",
       "      <td>TeleVenda</td>\n",
       "      <td>Mindscape</td>\n",
       "      <td>172</td>\n",
       "      <td>10815.2092</td>\n",
       "      <td>19437</td>\n",
       "      <td>quarta-feira</td>\n",
       "    </tr>\n",
       "    <tr>\n",
       "      <th>1320</th>\n",
       "      <td>2017-01-22</td>\n",
       "      <td>TeleVenda</td>\n",
       "      <td>Ellipsis</td>\n",
       "      <td>1534</td>\n",
       "      <td>49885.1596</td>\n",
       "      <td>85311</td>\n",
       "      <td>domingo</td>\n",
       "    </tr>\n",
       "    <tr>\n",
       "      <th>318</th>\n",
       "      <td>2016-11-20</td>\n",
       "      <td>Porta a Porta</td>\n",
       "      <td>Ellipsis</td>\n",
       "      <td>686</td>\n",
       "      <td>22111.3051</td>\n",
       "      <td>37225</td>\n",
       "      <td>domingo</td>\n",
       "    </tr>\n",
       "    <tr>\n",
       "      <th>193</th>\n",
       "      <td>2016-11-13</td>\n",
       "      <td>TeleVenda</td>\n",
       "      <td>Mindscape</td>\n",
       "      <td>1653</td>\n",
       "      <td>64793.5112</td>\n",
       "      <td>206361</td>\n",
       "      <td>domingo</td>\n",
       "    </tr>\n",
       "    <tr>\n",
       "      <th>2307</th>\n",
       "      <td>2017-03-25</td>\n",
       "      <td>TeleVenda</td>\n",
       "      <td>Arena</td>\n",
       "      <td>2093</td>\n",
       "      <td>75574.9898</td>\n",
       "      <td>309972</td>\n",
       "      <td>sábado</td>\n",
       "    </tr>\n",
       "  </tbody>\n",
       "</table>\n",
       "</div>"
      ],
      "text/plain": [
       "     Data Venda Canal de Venda Local de Venda   PAX  Monetário Vendido  \\\n",
       "1486 2017-02-01      TeleVenda      Mindscape   172         10815.2092   \n",
       "1320 2017-01-22      TeleVenda       Ellipsis  1534         49885.1596   \n",
       "318  2016-11-20  Porta a Porta       Ellipsis   686         22111.3051   \n",
       "193  2016-11-13      TeleVenda      Mindscape  1653         64793.5112   \n",
       "2307 2017-03-25      TeleVenda          Arena  2093         75574.9898   \n",
       "\n",
       "         RPK    dia_semana  \n",
       "1486   19437  quarta-feira  \n",
       "1320   85311       domingo  \n",
       "318    37225       domingo  \n",
       "193   206361       domingo  \n",
       "2307  309972        sábado  "
      ]
     },
     "execution_count": 14,
     "metadata": {},
     "output_type": "execute_result"
    }
   ],
   "source": [
    "df_.sample(5)"
   ]
  },
  {
   "cell_type": "code",
   "execution_count": 15,
   "metadata": {},
   "outputs": [
    {
     "data": {
      "text/plain": [
       "dia_semana\n",
       "quarta-feira     293025\n",
       "quinta-feira     258488\n",
       "sexta-feira      255625\n",
       "sábado           253467\n",
       "domingo          241620\n",
       "segunda-feira    236316\n",
       "terça-feira      219802\n",
       "Name: PAX, dtype: int64"
      ]
     },
     "execution_count": 15,
     "metadata": {},
     "output_type": "execute_result"
    }
   ],
   "source": [
    "df_.groupby(by='dia_semana')['PAX'].sum().sort_values(ascending=False)"
   ]
  },
  {
   "cell_type": "code",
   "execution_count": 16,
   "metadata": {},
   "outputs": [
    {
     "data": {
      "text/html": [
       "<div>\n",
       "<style scoped>\n",
       "    .dataframe tbody tr th:only-of-type {\n",
       "        vertical-align: middle;\n",
       "    }\n",
       "\n",
       "    .dataframe tbody tr th {\n",
       "        vertical-align: top;\n",
       "    }\n",
       "\n",
       "    .dataframe thead tr th {\n",
       "        text-align: left;\n",
       "    }\n",
       "\n",
       "    .dataframe thead tr:last-of-type th {\n",
       "        text-align: right;\n",
       "    }\n",
       "</style>\n",
       "<table border=\"1\" class=\"dataframe\">\n",
       "  <thead>\n",
       "    <tr>\n",
       "      <th></th>\n",
       "      <th>PAX</th>\n",
       "    </tr>\n",
       "    <tr>\n",
       "      <th></th>\n",
       "      <th>sum</th>\n",
       "    </tr>\n",
       "    <tr>\n",
       "      <th>dia_semana</th>\n",
       "      <th></th>\n",
       "    </tr>\n",
       "  </thead>\n",
       "  <tbody>\n",
       "    <tr>\n",
       "      <th>domingo</th>\n",
       "      <td>241620</td>\n",
       "    </tr>\n",
       "    <tr>\n",
       "      <th>quarta-feira</th>\n",
       "      <td>293025</td>\n",
       "    </tr>\n",
       "    <tr>\n",
       "      <th>quinta-feira</th>\n",
       "      <td>258488</td>\n",
       "    </tr>\n",
       "    <tr>\n",
       "      <th>segunda-feira</th>\n",
       "      <td>236316</td>\n",
       "    </tr>\n",
       "    <tr>\n",
       "      <th>sexta-feira</th>\n",
       "      <td>255625</td>\n",
       "    </tr>\n",
       "    <tr>\n",
       "      <th>sábado</th>\n",
       "      <td>253467</td>\n",
       "    </tr>\n",
       "    <tr>\n",
       "      <th>terça-feira</th>\n",
       "      <td>219802</td>\n",
       "    </tr>\n",
       "  </tbody>\n",
       "</table>\n",
       "</div>"
      ],
      "text/plain": [
       "                  PAX\n",
       "                  sum\n",
       "dia_semana           \n",
       "domingo        241620\n",
       "quarta-feira   293025\n",
       "quinta-feira   258488\n",
       "segunda-feira  236316\n",
       "sexta-feira    255625\n",
       "sábado         253467\n",
       "terça-feira    219802"
      ]
     },
     "execution_count": 16,
     "metadata": {},
     "output_type": "execute_result"
    }
   ],
   "source": [
    "pax_dia = df_.groupby('dia_semana').agg({'PAX': ['sum']})\n",
    "pax_dia"
   ]
  },
  {
   "cell_type": "markdown",
   "metadata": {},
   "source": [
    "* O dia com maior número de passageiros, em todo período, é quarta-feira."
   ]
  },
  {
   "cell_type": "markdown",
   "metadata": {},
   "source": [
    "### 2. Qual a correlação de sábado e domingo somados com o total de RPK?\n",
    "[Retorna à Tabela de conteúdo](#Tabela-de-conteúdo)"
   ]
  },
  {
   "cell_type": "code",
   "execution_count": 17,
   "metadata": {},
   "outputs": [],
   "source": [
    "# dia da semana: segunda-feira == 0; domingo == 6\n",
    "df_['dia_semana_num'] = df_['Data Venda'].dt.dayofweek"
   ]
  },
  {
   "cell_type": "code",
   "execution_count": 18,
   "metadata": {},
   "outputs": [
    {
     "data": {
      "text/html": [
       "<div>\n",
       "<style scoped>\n",
       "    .dataframe tbody tr th:only-of-type {\n",
       "        vertical-align: middle;\n",
       "    }\n",
       "\n",
       "    .dataframe tbody tr th {\n",
       "        vertical-align: top;\n",
       "    }\n",
       "\n",
       "    .dataframe thead th {\n",
       "        text-align: right;\n",
       "    }\n",
       "</style>\n",
       "<table border=\"1\" class=\"dataframe\">\n",
       "  <thead>\n",
       "    <tr style=\"text-align: right;\">\n",
       "      <th></th>\n",
       "      <th>Data Venda</th>\n",
       "      <th>Canal de Venda</th>\n",
       "      <th>Local de Venda</th>\n",
       "      <th>PAX</th>\n",
       "      <th>Monetário Vendido</th>\n",
       "      <th>RPK</th>\n",
       "      <th>dia_semana</th>\n",
       "      <th>dia_semana_num</th>\n",
       "    </tr>\n",
       "  </thead>\n",
       "  <tbody>\n",
       "    <tr>\n",
       "      <th>306</th>\n",
       "      <td>2016-11-20</td>\n",
       "      <td>Telégrafo</td>\n",
       "      <td>Ellipsis</td>\n",
       "      <td>41</td>\n",
       "      <td>2750.7479</td>\n",
       "      <td>2189</td>\n",
       "      <td>domingo</td>\n",
       "      <td>6</td>\n",
       "    </tr>\n",
       "    <tr>\n",
       "      <th>1972</th>\n",
       "      <td>2017-03-04</td>\n",
       "      <td>Porta a Porta</td>\n",
       "      <td>Ellipsis</td>\n",
       "      <td>905</td>\n",
       "      <td>23825.9166</td>\n",
       "      <td>49737</td>\n",
       "      <td>sábado</td>\n",
       "      <td>5</td>\n",
       "    </tr>\n",
       "    <tr>\n",
       "      <th>662</th>\n",
       "      <td>2016-12-12</td>\n",
       "      <td>Telégrafo</td>\n",
       "      <td>Ellipsis</td>\n",
       "      <td>58</td>\n",
       "      <td>2572.3585</td>\n",
       "      <td>3407</td>\n",
       "      <td>segunda-feira</td>\n",
       "      <td>0</td>\n",
       "    </tr>\n",
       "  </tbody>\n",
       "</table>\n",
       "</div>"
      ],
      "text/plain": [
       "     Data Venda Canal de Venda Local de Venda  PAX  Monetário Vendido    RPK  \\\n",
       "306  2016-11-20      Telégrafo       Ellipsis   41          2750.7479   2189   \n",
       "1972 2017-03-04  Porta a Porta       Ellipsis  905         23825.9166  49737   \n",
       "662  2016-12-12      Telégrafo       Ellipsis   58          2572.3585   3407   \n",
       "\n",
       "         dia_semana  dia_semana_num  \n",
       "306         domingo               6  \n",
       "1972         sábado               5  \n",
       "662   segunda-feira               0  "
      ]
     },
     "execution_count": 18,
     "metadata": {},
     "output_type": "execute_result"
    }
   ],
   "source": [
    "df_.sample(3)"
   ]
  },
  {
   "cell_type": "code",
   "execution_count": 19,
   "metadata": {},
   "outputs": [
    {
     "data": {
      "text/html": [
       "<div>\n",
       "<style scoped>\n",
       "    .dataframe tbody tr th:only-of-type {\n",
       "        vertical-align: middle;\n",
       "    }\n",
       "\n",
       "    .dataframe tbody tr th {\n",
       "        vertical-align: top;\n",
       "    }\n",
       "\n",
       "    .dataframe thead tr th {\n",
       "        text-align: left;\n",
       "    }\n",
       "\n",
       "    .dataframe thead tr:last-of-type th {\n",
       "        text-align: right;\n",
       "    }\n",
       "</style>\n",
       "<table border=\"1\" class=\"dataframe\">\n",
       "  <thead>\n",
       "    <tr>\n",
       "      <th></th>\n",
       "      <th>RPK</th>\n",
       "    </tr>\n",
       "    <tr>\n",
       "      <th></th>\n",
       "      <th>sum</th>\n",
       "    </tr>\n",
       "    <tr>\n",
       "      <th>dia_semana_num</th>\n",
       "      <th></th>\n",
       "    </tr>\n",
       "  </thead>\n",
       "  <tbody>\n",
       "    <tr>\n",
       "      <th>0</th>\n",
       "      <td>23275908</td>\n",
       "    </tr>\n",
       "    <tr>\n",
       "      <th>1</th>\n",
       "      <td>20366840</td>\n",
       "    </tr>\n",
       "    <tr>\n",
       "      <th>2</th>\n",
       "      <td>26263705</td>\n",
       "    </tr>\n",
       "    <tr>\n",
       "      <th>3</th>\n",
       "      <td>23501102</td>\n",
       "    </tr>\n",
       "    <tr>\n",
       "      <th>4</th>\n",
       "      <td>23309936</td>\n",
       "    </tr>\n",
       "    <tr>\n",
       "      <th>5</th>\n",
       "      <td>23201577</td>\n",
       "    </tr>\n",
       "    <tr>\n",
       "      <th>6</th>\n",
       "      <td>22388695</td>\n",
       "    </tr>\n",
       "  </tbody>\n",
       "</table>\n",
       "</div>"
      ],
      "text/plain": [
       "                     RPK\n",
       "                     sum\n",
       "dia_semana_num          \n",
       "0               23275908\n",
       "1               20366840\n",
       "2               26263705\n",
       "3               23501102\n",
       "4               23309936\n",
       "5               23201577\n",
       "6               22388695"
      ]
     },
     "execution_count": 19,
     "metadata": {},
     "output_type": "execute_result"
    }
   ],
   "source": [
    "df_.groupby('dia_semana_num').agg({'RPK': ['sum']})"
   ]
  },
  {
   "cell_type": "code",
   "execution_count": 20,
   "metadata": {},
   "outputs": [
    {
     "data": {
      "text/plain": [
       "dia_semana_num        1760\n",
       "RPK               23201577\n",
       "dtype: int64"
      ]
     },
     "execution_count": 20,
     "metadata": {},
     "output_type": "execute_result"
    }
   ],
   "source": [
    "sabado_RPK = df_[['dia_semana_num','RPK']].query('`dia_semana_num` == 5').sum()\n",
    "sabado_RPK"
   ]
  },
  {
   "cell_type": "code",
   "execution_count": 21,
   "metadata": {},
   "outputs": [
    {
     "data": {
      "text/plain": [
       "dia_semana_num        2016\n",
       "RPK               22388695\n",
       "dtype: int64"
      ]
     },
     "execution_count": 21,
     "metadata": {},
     "output_type": "execute_result"
    }
   ],
   "source": [
    "domingo_RPK = df_[['dia_semana_num','RPK']].query('`dia_semana_num` == 6').sum()\n",
    "domingo_RPK"
   ]
  },
  {
   "cell_type": "code",
   "execution_count": 22,
   "metadata": {},
   "outputs": [
    {
     "data": {
      "text/plain": [
       "162307763"
      ]
     },
     "execution_count": 22,
     "metadata": {},
     "output_type": "execute_result"
    }
   ],
   "source": [
    "total_RPK = df_['RPK'].sum()\n",
    "total_RPK"
   ]
  },
  {
   "cell_type": "code",
   "execution_count": 23,
   "metadata": {},
   "outputs": [],
   "source": [
    "RPK_sab_dom = (sabado_RPK[1] + domingo_RPK[1]) / total_RPK"
   ]
  },
  {
   "cell_type": "code",
   "execution_count": 24,
   "metadata": {},
   "outputs": [
    {
     "name": "stdout",
     "output_type": "stream",
     "text": [
      "Sábado e domingo representam 28.09% do total RPK.\n"
     ]
    }
   ],
   "source": [
    "print(f'Sábado e domingo representam {round(RPK_sab_dom * 100, 2)}% do total RPK.') "
   ]
  },
  {
   "cell_type": "markdown",
   "metadata": {},
   "source": [
    "### 3. Qual a média de ‘Monetário’ por mês por Canal? E a mediana?\n",
    "[Retorna à Tabela de conteúdo](#Tabela-de-conteúdo)"
   ]
  },
  {
   "cell_type": "code",
   "execution_count": 25,
   "metadata": {},
   "outputs": [],
   "source": [
    "# coluna 'mês'\n",
    "df_['mês'] = df['Data Venda'].dt.month"
   ]
  },
  {
   "cell_type": "code",
   "execution_count": 26,
   "metadata": {},
   "outputs": [
    {
     "data": {
      "text/html": [
       "<div>\n",
       "<style scoped>\n",
       "    .dataframe tbody tr th:only-of-type {\n",
       "        vertical-align: middle;\n",
       "    }\n",
       "\n",
       "    .dataframe tbody tr th {\n",
       "        vertical-align: top;\n",
       "    }\n",
       "\n",
       "    .dataframe thead th {\n",
       "        text-align: right;\n",
       "    }\n",
       "</style>\n",
       "<table border=\"1\" class=\"dataframe\">\n",
       "  <thead>\n",
       "    <tr style=\"text-align: right;\">\n",
       "      <th></th>\n",
       "      <th>Data Venda</th>\n",
       "      <th>Canal de Venda</th>\n",
       "      <th>Local de Venda</th>\n",
       "      <th>PAX</th>\n",
       "      <th>Monetário Vendido</th>\n",
       "      <th>RPK</th>\n",
       "      <th>dia_semana</th>\n",
       "      <th>dia_semana_num</th>\n",
       "      <th>mês</th>\n",
       "    </tr>\n",
       "  </thead>\n",
       "  <tbody>\n",
       "    <tr>\n",
       "      <th>2161</th>\n",
       "      <td>2017-03-16</td>\n",
       "      <td>TeleVenda</td>\n",
       "      <td>Arena</td>\n",
       "      <td>363</td>\n",
       "      <td>19359.7233</td>\n",
       "      <td>53293</td>\n",
       "      <td>quinta-feira</td>\n",
       "      <td>3</td>\n",
       "      <td>3</td>\n",
       "    </tr>\n",
       "    <tr>\n",
       "      <th>557</th>\n",
       "      <td>2016-12-05</td>\n",
       "      <td>TeleVenda</td>\n",
       "      <td>Ellipsis</td>\n",
       "      <td>104</td>\n",
       "      <td>6071.4518</td>\n",
       "      <td>6534</td>\n",
       "      <td>segunda-feira</td>\n",
       "      <td>0</td>\n",
       "      <td>12</td>\n",
       "    </tr>\n",
       "    <tr>\n",
       "      <th>722</th>\n",
       "      <td>2016-12-16</td>\n",
       "      <td>TeleVenda</td>\n",
       "      <td>Ellipsis</td>\n",
       "      <td>1274</td>\n",
       "      <td>38359.1675</td>\n",
       "      <td>70586</td>\n",
       "      <td>sexta-feira</td>\n",
       "      <td>4</td>\n",
       "      <td>12</td>\n",
       "    </tr>\n",
       "    <tr>\n",
       "      <th>1562</th>\n",
       "      <td>2017-02-06</td>\n",
       "      <td>Porta a Porta</td>\n",
       "      <td>Ellipsis</td>\n",
       "      <td>2284</td>\n",
       "      <td>40497.7827</td>\n",
       "      <td>132854</td>\n",
       "      <td>segunda-feira</td>\n",
       "      <td>0</td>\n",
       "      <td>2</td>\n",
       "    </tr>\n",
       "    <tr>\n",
       "      <th>599</th>\n",
       "      <td>2016-12-08</td>\n",
       "      <td>Telégrafo</td>\n",
       "      <td>Mindscape</td>\n",
       "      <td>94</td>\n",
       "      <td>7989.6182</td>\n",
       "      <td>11046</td>\n",
       "      <td>quinta-feira</td>\n",
       "      <td>3</td>\n",
       "      <td>12</td>\n",
       "    </tr>\n",
       "  </tbody>\n",
       "</table>\n",
       "</div>"
      ],
      "text/plain": [
       "     Data Venda Canal de Venda Local de Venda   PAX  Monetário Vendido  \\\n",
       "2161 2017-03-16      TeleVenda          Arena   363         19359.7233   \n",
       "557  2016-12-05      TeleVenda       Ellipsis   104          6071.4518   \n",
       "722  2016-12-16      TeleVenda       Ellipsis  1274         38359.1675   \n",
       "1562 2017-02-06  Porta a Porta       Ellipsis  2284         40497.7827   \n",
       "599  2016-12-08      Telégrafo      Mindscape    94          7989.6182   \n",
       "\n",
       "         RPK     dia_semana  dia_semana_num  mês  \n",
       "2161   53293   quinta-feira               3    3  \n",
       "557     6534  segunda-feira               0   12  \n",
       "722    70586    sexta-feira               4   12  \n",
       "1562  132854  segunda-feira               0    2  \n",
       "599    11046   quinta-feira               3   12  "
      ]
     },
     "execution_count": 26,
     "metadata": {},
     "output_type": "execute_result"
    }
   ],
   "source": [
    "df_.sample(5)"
   ]
  },
  {
   "cell_type": "code",
   "execution_count": 27,
   "metadata": {},
   "outputs": [
    {
     "data": {
      "text/html": [
       "<div>\n",
       "<style scoped>\n",
       "    .dataframe tbody tr th:only-of-type {\n",
       "        vertical-align: middle;\n",
       "    }\n",
       "\n",
       "    .dataframe tbody tr th {\n",
       "        vertical-align: top;\n",
       "    }\n",
       "\n",
       "    .dataframe thead tr th {\n",
       "        text-align: left;\n",
       "    }\n",
       "\n",
       "    .dataframe thead tr:last-of-type th {\n",
       "        text-align: right;\n",
       "    }\n",
       "</style>\n",
       "<table border=\"1\" class=\"dataframe\">\n",
       "  <thead>\n",
       "    <tr>\n",
       "      <th></th>\n",
       "      <th></th>\n",
       "      <th colspan=\"2\" halign=\"left\">Monetário Vendido</th>\n",
       "    </tr>\n",
       "    <tr>\n",
       "      <th></th>\n",
       "      <th></th>\n",
       "      <th>mean</th>\n",
       "      <th>median</th>\n",
       "    </tr>\n",
       "    <tr>\n",
       "      <th>Canal de Venda</th>\n",
       "      <th>mês</th>\n",
       "      <th></th>\n",
       "      <th></th>\n",
       "    </tr>\n",
       "  </thead>\n",
       "  <tbody>\n",
       "    <tr>\n",
       "      <th rowspan=\"6\" valign=\"top\">Porta a Porta</th>\n",
       "      <th>1</th>\n",
       "      <td>31320.5695</td>\n",
       "      <td>28823.0253</td>\n",
       "    </tr>\n",
       "    <tr>\n",
       "      <th>2</th>\n",
       "      <td>31710.1489</td>\n",
       "      <td>29711.5801</td>\n",
       "    </tr>\n",
       "    <tr>\n",
       "      <th>3</th>\n",
       "      <td>31055.9398</td>\n",
       "      <td>30488.1910</td>\n",
       "    </tr>\n",
       "    <tr>\n",
       "      <th>4</th>\n",
       "      <td>33319.4963</td>\n",
       "      <td>32421.6094</td>\n",
       "    </tr>\n",
       "    <tr>\n",
       "      <th>11</th>\n",
       "      <td>34638.0718</td>\n",
       "      <td>30262.9780</td>\n",
       "    </tr>\n",
       "    <tr>\n",
       "      <th>12</th>\n",
       "      <td>28615.4525</td>\n",
       "      <td>25527.5193</td>\n",
       "    </tr>\n",
       "    <tr>\n",
       "      <th rowspan=\"6\" valign=\"top\">TeleVenda</th>\n",
       "      <th>1</th>\n",
       "      <td>32868.8814</td>\n",
       "      <td>19085.1232</td>\n",
       "    </tr>\n",
       "    <tr>\n",
       "      <th>2</th>\n",
       "      <td>32208.4458</td>\n",
       "      <td>18926.6902</td>\n",
       "    </tr>\n",
       "    <tr>\n",
       "      <th>3</th>\n",
       "      <td>32132.2467</td>\n",
       "      <td>18666.8800</td>\n",
       "    </tr>\n",
       "    <tr>\n",
       "      <th>4</th>\n",
       "      <td>35795.7819</td>\n",
       "      <td>28091.8856</td>\n",
       "    </tr>\n",
       "    <tr>\n",
       "      <th>11</th>\n",
       "      <td>30963.4593</td>\n",
       "      <td>18757.7078</td>\n",
       "    </tr>\n",
       "    <tr>\n",
       "      <th>12</th>\n",
       "      <td>28045.7215</td>\n",
       "      <td>17567.6009</td>\n",
       "    </tr>\n",
       "    <tr>\n",
       "      <th rowspan=\"6\" valign=\"top\">Telégrafo</th>\n",
       "      <th>1</th>\n",
       "      <td>4234.0226</td>\n",
       "      <td>3782.2489</td>\n",
       "    </tr>\n",
       "    <tr>\n",
       "      <th>2</th>\n",
       "      <td>4307.6263</td>\n",
       "      <td>4045.8931</td>\n",
       "    </tr>\n",
       "    <tr>\n",
       "      <th>3</th>\n",
       "      <td>4568.1485</td>\n",
       "      <td>4345.5596</td>\n",
       "    </tr>\n",
       "    <tr>\n",
       "      <th>4</th>\n",
       "      <td>3778.5918</td>\n",
       "      <td>3458.8847</td>\n",
       "    </tr>\n",
       "    <tr>\n",
       "      <th>11</th>\n",
       "      <td>4614.3101</td>\n",
       "      <td>4029.1321</td>\n",
       "    </tr>\n",
       "    <tr>\n",
       "      <th>12</th>\n",
       "      <td>5212.6481</td>\n",
       "      <td>4227.5779</td>\n",
       "    </tr>\n",
       "  </tbody>\n",
       "</table>\n",
       "</div>"
      ],
      "text/plain": [
       "                   Monetário Vendido           \n",
       "                                mean     median\n",
       "Canal de Venda mês                             \n",
       "Porta a Porta  1          31320.5695 28823.0253\n",
       "               2          31710.1489 29711.5801\n",
       "               3          31055.9398 30488.1910\n",
       "               4          33319.4963 32421.6094\n",
       "               11         34638.0718 30262.9780\n",
       "               12         28615.4525 25527.5193\n",
       "TeleVenda      1          32868.8814 19085.1232\n",
       "               2          32208.4458 18926.6902\n",
       "               3          32132.2467 18666.8800\n",
       "               4          35795.7819 28091.8856\n",
       "               11         30963.4593 18757.7078\n",
       "               12         28045.7215 17567.6009\n",
       "Telégrafo      1           4234.0226  3782.2489\n",
       "               2           4307.6263  4045.8931\n",
       "               3           4568.1485  4345.5596\n",
       "               4           3778.5918  3458.8847\n",
       "               11          4614.3101  4029.1321\n",
       "               12          5212.6481  4227.5779"
      ]
     },
     "execution_count": 27,
     "metadata": {},
     "output_type": "execute_result"
    }
   ],
   "source": [
    "df_.groupby(['Canal de Venda', 'mês']).agg({'Monetário Vendido': ['mean', 'median']})"
   ]
  },
  {
   "cell_type": "markdown",
   "metadata": {},
   "source": [
    "### 4. Crie um forecast de PAX por ‘Local de Venda’ para os próximos 15 dias a contar da última data de venda.\n",
    "[Retorna à Tabela de conteúdo](#Tabela-de-conteúdo)"
   ]
  },
  {
   "cell_type": "code",
   "execution_count": null,
   "metadata": {},
   "outputs": [],
   "source": [
    "# https://github.com/PracticalTimeSeriesAnalysis/BookRepo\n",
    "# https://machinelearningmastery.com/time-series-forecasting-methods-in-python-cheat-sheet/\n",
    "# https://stackoverflow.com/questions/22770352/auto-arima-equivalent-for-python"
   ]
  },
  {
   "cell_type": "code",
   "execution_count": null,
   "metadata": {},
   "outputs": [],
   "source": []
  },
  {
   "cell_type": "code",
   "execution_count": null,
   "metadata": {
    "scrolled": false
   },
   "outputs": [],
   "source": [
    "# ARIMA example\n",
    "from statsmodels.tsa.arima.model import ARIMA\n",
    "from random import random\n",
    "# contrived dataset\n",
    "# data = [x + random() for x in range(1, 100)]\n",
    "# fit model\n",
    "model = ARIMA(df_, order=(1, 1, 1))\n",
    "model_fit = model.fit()\n",
    "# make prediction\n",
    "yhat = model_fit.predict(len(df_), len(df_), typ='levels')\n",
    "print(yhat)"
   ]
  },
  {
   "cell_type": "code",
   "execution_count": null,
   "metadata": {},
   "outputs": [],
   "source": [
    "df_.info()"
   ]
  },
  {
   "cell_type": "code",
   "execution_count": null,
   "metadata": {},
   "outputs": [],
   "source": [
    "# transformar Local de Venda em número\n",
    "# eliminar object columns: dia_semana\n",
    "# criar novo dataset"
   ]
  },
  {
   "cell_type": "code",
   "execution_count": null,
   "metadata": {},
   "outputs": [],
   "source": [
    "df_['Canal de Venda'].unique().tolist()"
   ]
  },
  {
   "cell_type": "code",
   "execution_count": null,
   "metadata": {},
   "outputs": [],
   "source": [
    "canais = {'Telégrafo': 1, 'TeleVenda': 2, 'Porta a Porta': 3}"
   ]
  },
  {
   "cell_type": "code",
   "execution_count": null,
   "metadata": {},
   "outputs": [],
   "source": []
  },
  {
   "cell_type": "markdown",
   "metadata": {},
   "source": [
    "### 5. Supondo que você precisa gerar um estudo para a área responsável, com base em qualquer modelo ou premissa, qual ‘Local de Venda’ você considera mais crítico. Por quê?\n",
    "[Retorna à Tabela de conteúdo](#Tabela-de-conteúdo)"
   ]
  },
  {
   "cell_type": "code",
   "execution_count": null,
   "metadata": {},
   "outputs": [],
   "source": [
    "# Monerário Vendido por Canal de Venda - período total\n",
    "df_.groupby('Local de Venda').agg({'Monetário Vendido': ['mean', 'median', 'sum']})"
   ]
  },
  {
   "cell_type": "code",
   "execution_count": null,
   "metadata": {},
   "outputs": [],
   "source": [
    "sns.barplot(x='Local de Venda', y='Monetário Vendido', data=df_)"
   ]
  },
  {
   "cell_type": "markdown",
   "metadata": {},
   "source": [
    "* O local de venda mais crítico é Ellipsis, possui um total de vendas no período mais baixo comparando-o com os outros locais."
   ]
  },
  {
   "cell_type": "markdown",
   "metadata": {},
   "source": [
    "### 6. Criar modelo relacionando o comportamento de venda com variáveis não apresentadas nos dados (Ex: PIB, Dolar, etc.)\n",
    "[Retorna à Tabela de conteúdo](#Tabela-de-conteúdo)"
   ]
  },
  {
   "cell_type": "code",
   "execution_count": null,
   "metadata": {},
   "outputs": [],
   "source": [
    "# cria ano\n",
    "df_['ano'] = df['Data Venda'].dt.year"
   ]
  },
  {
   "cell_type": "code",
   "execution_count": null,
   "metadata": {},
   "outputs": [],
   "source": [
    "# lista anos \n",
    "df_['ano'].unique().tolist()"
   ]
  },
  {
   "cell_type": "code",
   "execution_count": null,
   "metadata": {},
   "outputs": [],
   "source": [
    "# lista meses \n",
    "df_['mês'].unique().tolist()"
   ]
  },
  {
   "cell_type": "code",
   "execution_count": null,
   "metadata": {},
   "outputs": [],
   "source": [
    "# https://economia.acspservicos.com.br/indicadores_iegv/iegv_dolar.html\n",
    "## dict = {mês: dólar}\n",
    "dolar_2016 = {1: 4.054, 2: 3.978, 3: 3.694, 4: 3.551, 11: 3.339, 12: 3.351}\n",
    "dolar_2017 = {1: 3.197, 2: 3.103, 3: 3.127, 4: 3.140, 11: 3.257, 12: 3.297} \n",
    "\n",
    "# cria coluna dólar\n",
    "for d in df_['ano']:\n",
    "    if df_['ano'][d] == 2016:\n",
    "        df_['dólar'] = df_['mês'].map(dolar_2016)\n",
    "    else:\n",
    "        df_['dólar'] = df_['mês'].map(dolar_2017)"
   ]
  },
  {
   "cell_type": "code",
   "execution_count": null,
   "metadata": {},
   "outputs": [],
   "source": [
    "# https://www.ibge.gov.br/estatisticas/economicas/precos-e-custos/9256-indice-nacional-de-precos-ao-consumidor-amplo.html?=&t=series-historicas\n",
    "## dict = {mês: ipca(%)}\n",
    "ipca_2016 = {1: 1.27, 2: 0.90, 3: 0.43, 4: 0.61, 11: 0.18, 12: 0.30}\n",
    "ipca_2017 = {1: 0.38, 2: 0.33, 3: 0.25, 4: 0.14, 11: 0.28, 12: 0.44}\n",
    "\n",
    "# cria coluna ipca\n",
    "for i in df_['ano']:\n",
    "    if df_['ano'][i] == 2016:\n",
    "        df_['ipca'] = df_['mês'].map(ipca_2016)\n",
    "    else:\n",
    "        df_['ipca'] = df_['mês'].map(ipca_2017)"
   ]
  },
  {
   "cell_type": "code",
   "execution_count": null,
   "metadata": {},
   "outputs": [],
   "source": [
    "df_.sample(3)"
   ]
  },
  {
   "cell_type": "code",
   "execution_count": null,
   "metadata": {},
   "outputs": [],
   "source": [
    "df_[['Monetário Vendido','mês', 'ano', 'dólar', 'ipca']].describe()"
   ]
  },
  {
   "cell_type": "code",
   "execution_count": null,
   "metadata": {},
   "outputs": [],
   "source": [
    "corr = df_[['Monetário Vendido','mês', 'ano', 'dólar', 'ipca']].corr()\n",
    "corr"
   ]
  },
  {
   "cell_type": "code",
   "execution_count": null,
   "metadata": {},
   "outputs": [],
   "source": [
    "sns.clustermap(corr, cmap='Oranges', annot = True, figsize=(6, 6))"
   ]
  },
  {
   "cell_type": "code",
   "execution_count": null,
   "metadata": {},
   "outputs": [],
   "source": []
  },
  {
   "cell_type": "code",
   "execution_count": null,
   "metadata": {},
   "outputs": [],
   "source": [
    "Mais do que o resultado, iremos avaliar o raciocínio e a organização de trabalho\n",
    "\n",
    "Algumas considerações:\n",
    "\n",
    "*PAX é o total de passageiros. RPK é um indicador diretamente relacionada com o número de PAX.\n",
    "*Não se atenha às grandezas. Os dados são fictícios. 😉\n",
    "*Envie todo o material que produzir (códigos, tabelas e outros arquivos) com o detalhamento de cada um. Se possível, comente nos códigos.\n",
    "*Para a apresentação, use PowerPoint ou qualquer outra ferramenta de DataViz que julgar pertinente.\n"
   ]
  },
  {
   "cell_type": "code",
   "execution_count": null,
   "metadata": {},
   "outputs": [],
   "source": []
  }
 ],
 "metadata": {
  "kernelspec": {
   "display_name": "Python 3",
   "language": "python",
   "name": "python3"
  },
  "language_info": {
   "codemirror_mode": {
    "name": "ipython",
    "version": 3
   },
   "file_extension": ".py",
   "mimetype": "text/x-python",
   "name": "python",
   "nbconvert_exporter": "python",
   "pygments_lexer": "ipython3",
   "version": "3.6.9"
  }
 },
 "nbformat": 4,
 "nbformat_minor": 4
}
