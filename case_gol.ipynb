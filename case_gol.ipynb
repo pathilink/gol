{
 "cells": [
  {
   "cell_type": "markdown",
   "metadata": {},
   "source": [
    "# <font color='FF6F1F'>Case Gol</font>\n",
    "\n",
    "## <font color='FF6F1F'>Respostas às perguntas de interesse</font>"
   ]
  },
  {
   "cell_type": "markdown",
   "metadata": {},
   "source": [
    "# Tabela de conteúdo\n",
    "\n",
    "[1. Informação básica](#1.-Informação-básica)\n",
    "\n",
    "[2. Bibliotecas](#2.-Bibliotecas)\n",
    "\n",
    "[3. Dados](#3.-Dados)\n",
    "\n",
    "[4. Perguntas](#4.-Perguntas)\n",
    "\n",
    "* [1. Faça um ranking para o número total de PAX por dia da semana.](#1.-Faça-um-ranking-para-o-número-total-de-PAX-por-dia-da-semana.)\n",
    "\n",
    "* [2. Qual a correlação de sábado e domingo somados com o total de RPK?](#2.-Qual-a-correlação-de-sábado-e-domingo-somados-com-o-total-de-RPK?)\n",
    "\n",
    "* [3. Qual a média de ‘Monetário’ por mês por Canal? E a mediana?](#3.-Qual-a-média-de-‘Monetário’-por-mês-por-Canal?-E-a-mediana?)\n",
    "\n",
    "* [4. Crie um forecast de PAX por ‘Local de Venda’ para os próximos 15 dias a contar da última data de venda.](#4.-Crie-um-forecast-de-PAX-por-‘Local-de-Venda’-para-os-próximos-15-dias-a-contar-da-última-data-de-venda.)\n",
    "\n",
    "* [5. Supondo que você precisa gerar um estudo para a área responsável, com base em qualquer modelo ou premissa, qual ‘Local de Venda’ você considera mais crítico. Por quê?](#5.-Supondo-que-você-precisa-gerar-um-estudo-para-a-área-responsável,-com-base-em-qualquer-modelo-ou-premissa,-qual-‘Local-de-Venda’-você-considera-mais-crítico.-Por-quê?)\n",
    "\n",
    "* [6. Criar modelo relacionando o comportamento de venda com variáveis não apresentadas nos dados (Ex: PIB, Dolar, etc.)](#6.-Criar-modelo-relacionando-o-comportamento-de-venda-com-variáveis-não-apresentadas-nos-dados-(Ex:-PIB,-Dolar,-etc.))\n"
   ]
  },
  {
   "cell_type": "markdown",
   "metadata": {},
   "source": [
    "## 1. Informação básica\n",
    "[Retorna à Tabela de conteúdo](#Tabela-de-conteúdo)"
   ]
  },
  {
   "cell_type": "markdown",
   "metadata": {},
   "source": [
    "**Fonte:** Gol\n",
    "\n",
    "**Período:** 2016-11-01 a 2017-04-01\n",
    "\n",
    "**Descrição das colunas:**\n",
    "\n",
    "| Variável | Descrição | Tipo |  \n",
    "|:---|:---|:---|\n",
    "| Data Venda | Data (AAAA-MM-DD) | Data |\n",
    "| Canal de Venda | Canais de venda. | Nominal |\n",
    "| Local de Venda | Locais de venda. | Nominal |\n",
    "| PAX | Total de passageiros. | Discreto |\n",
    "| Monetário Vendido | Valores da venda. | Contínuo |\n",
    "| RPK | Indicador diretamente relacionado com o número de PAX. | Discreto |"
   ]
  },
  {
   "cell_type": "markdown",
   "metadata": {},
   "source": [
    "## 2. Bibliotecas\n",
    "[Retorna à Tabela de conteúdo](#Tabela-de-conteúdo)"
   ]
  },
  {
   "cell_type": "code",
   "execution_count": 1,
   "metadata": {},
   "outputs": [],
   "source": [
    "import pandas as pd # dataframe\n",
    "import numpy as np # numeric\n",
    "import seaborn as sns # graph\n",
    "from matplotlib import pyplot as plt # plot"
   ]
  },
  {
   "cell_type": "markdown",
   "metadata": {},
   "source": [
    "## 3. Dados\n",
    "[Retorna à Tabela de conteúdo](#Tabela-de-conteúdo)"
   ]
  },
  {
   "cell_type": "code",
   "execution_count": 2,
   "metadata": {},
   "outputs": [],
   "source": [
    "df = pd.read_excel('case_analytics-ds.xlsx', sheet_name='Dados')"
   ]
  },
  {
   "cell_type": "code",
   "execution_count": 13,
   "metadata": {},
   "outputs": [
    {
     "data": {
      "text/html": [
       "<div>\n",
       "<style scoped>\n",
       "    .dataframe tbody tr th:only-of-type {\n",
       "        vertical-align: middle;\n",
       "    }\n",
       "\n",
       "    .dataframe tbody tr th {\n",
       "        vertical-align: top;\n",
       "    }\n",
       "\n",
       "    .dataframe thead th {\n",
       "        text-align: right;\n",
       "    }\n",
       "</style>\n",
       "<table border=\"1\" class=\"dataframe\">\n",
       "  <thead>\n",
       "    <tr style=\"text-align: right;\">\n",
       "      <th></th>\n",
       "      <th>Data Venda</th>\n",
       "      <th>Canal de Venda</th>\n",
       "      <th>Local de Venda</th>\n",
       "      <th>PAX</th>\n",
       "      <th>Monetário Vendido</th>\n",
       "      <th>RPK</th>\n",
       "    </tr>\n",
       "  </thead>\n",
       "  <tbody>\n",
       "    <tr>\n",
       "      <th>199</th>\n",
       "      <td>2016-11-13</td>\n",
       "      <td>TeleVenda</td>\n",
       "      <td>Vast</td>\n",
       "      <td>299</td>\n",
       "      <td>20202.737369</td>\n",
       "      <td>14597</td>\n",
       "    </tr>\n",
       "    <tr>\n",
       "      <th>1058</th>\n",
       "      <td>2017-01-06</td>\n",
       "      <td>Telégrafo</td>\n",
       "      <td>Arena</td>\n",
       "      <td>128</td>\n",
       "      <td>7622.828531</td>\n",
       "      <td>18140</td>\n",
       "    </tr>\n",
       "    <tr>\n",
       "      <th>2113</th>\n",
       "      <td>2017-03-13</td>\n",
       "      <td>TeleVenda</td>\n",
       "      <td>Ellipsis</td>\n",
       "      <td>121</td>\n",
       "      <td>6667.114100</td>\n",
       "      <td>7561</td>\n",
       "    </tr>\n",
       "    <tr>\n",
       "      <th>570</th>\n",
       "      <td>2016-12-06</td>\n",
       "      <td>Telégrafo</td>\n",
       "      <td>Arena</td>\n",
       "      <td>86</td>\n",
       "      <td>8814.144563</td>\n",
       "      <td>12883</td>\n",
       "    </tr>\n",
       "    <tr>\n",
       "      <th>2027</th>\n",
       "      <td>2017-03-07</td>\n",
       "      <td>TeleVenda</td>\n",
       "      <td>Arena</td>\n",
       "      <td>1224</td>\n",
       "      <td>36059.215517</td>\n",
       "      <td>180104</td>\n",
       "    </tr>\n",
       "  </tbody>\n",
       "</table>\n",
       "</div>"
      ],
      "text/plain": [
       "     Data Venda Canal de Venda Local de Venda   PAX  Monetário Vendido     RPK\n",
       "199  2016-11-13      TeleVenda           Vast   299       20202.737369   14597\n",
       "1058 2017-01-06      Telégrafo          Arena   128        7622.828531   18140\n",
       "2113 2017-03-13      TeleVenda       Ellipsis   121        6667.114100    7561\n",
       "570  2016-12-06      Telégrafo          Arena    86        8814.144563   12883\n",
       "2027 2017-03-07      TeleVenda          Arena  1224       36059.215517  180104"
      ]
     },
     "execution_count": 13,
     "metadata": {},
     "output_type": "execute_result"
    }
   ],
   "source": [
    "df.sample(5)"
   ]
  },
  {
   "cell_type": "code",
   "execution_count": 4,
   "metadata": {},
   "outputs": [
    {
     "name": "stdout",
     "output_type": "stream",
     "text": [
      "<class 'pandas.core.frame.DataFrame'>\n",
      "RangeIndex: 2432 entries, 0 to 2431\n",
      "Data columns (total 6 columns):\n",
      " #   Column             Non-Null Count  Dtype         \n",
      "---  ------             --------------  -----         \n",
      " 0   Data Venda         2432 non-null   datetime64[ns]\n",
      " 1   Canal de Venda     2432 non-null   object        \n",
      " 2   Local de Venda     2432 non-null   object        \n",
      " 3   PAX                2432 non-null   int64         \n",
      " 4   Monetário Vendido  2432 non-null   float64       \n",
      " 5   RPK                2432 non-null   int64         \n",
      "dtypes: datetime64[ns](1), float64(1), int64(2), object(2)\n",
      "memory usage: 114.1+ KB\n"
     ]
    }
   ],
   "source": [
    "df.info()"
   ]
  },
  {
   "cell_type": "code",
   "execution_count": 18,
   "metadata": {},
   "outputs": [
    {
     "name": "stdout",
     "output_type": "stream",
     "text": [
      "O dataframe possui 2432 linhas e 6 colunas.\n"
     ]
    }
   ],
   "source": [
    "print(f'O dataframe possui {df.shape[0]} linhas e {df.shape[1]} colunas.')"
   ]
  },
  {
   "cell_type": "code",
   "execution_count": 8,
   "metadata": {},
   "outputs": [
    {
     "data": {
      "text/html": [
       "<div>\n",
       "<style scoped>\n",
       "    .dataframe tbody tr th:only-of-type {\n",
       "        vertical-align: middle;\n",
       "    }\n",
       "\n",
       "    .dataframe tbody tr th {\n",
       "        vertical-align: top;\n",
       "    }\n",
       "\n",
       "    .dataframe thead th {\n",
       "        text-align: right;\n",
       "    }\n",
       "</style>\n",
       "<table border=\"1\" class=\"dataframe\">\n",
       "  <thead>\n",
       "    <tr style=\"text-align: right;\">\n",
       "      <th></th>\n",
       "      <th>Total</th>\n",
       "      <th>Porcentagem</th>\n",
       "    </tr>\n",
       "  </thead>\n",
       "  <tbody>\n",
       "    <tr>\n",
       "      <th>RPK</th>\n",
       "      <td>0</td>\n",
       "      <td>0.0</td>\n",
       "    </tr>\n",
       "    <tr>\n",
       "      <th>Monetário Vendido</th>\n",
       "      <td>0</td>\n",
       "      <td>0.0</td>\n",
       "    </tr>\n",
       "    <tr>\n",
       "      <th>PAX</th>\n",
       "      <td>0</td>\n",
       "      <td>0.0</td>\n",
       "    </tr>\n",
       "    <tr>\n",
       "      <th>Local de Venda</th>\n",
       "      <td>0</td>\n",
       "      <td>0.0</td>\n",
       "    </tr>\n",
       "    <tr>\n",
       "      <th>Canal de Venda</th>\n",
       "      <td>0</td>\n",
       "      <td>0.0</td>\n",
       "    </tr>\n",
       "    <tr>\n",
       "      <th>Data Venda</th>\n",
       "      <td>0</td>\n",
       "      <td>0.0</td>\n",
       "    </tr>\n",
       "  </tbody>\n",
       "</table>\n",
       "</div>"
      ],
      "text/plain": [
       "                   Total  Porcentagem\n",
       "RPK                    0          0.0\n",
       "Monetário Vendido      0          0.0\n",
       "PAX                    0          0.0\n",
       "Local de Venda         0          0.0\n",
       "Canal de Venda         0          0.0\n",
       "Data Venda             0          0.0"
      ]
     },
     "execution_count": 8,
     "metadata": {},
     "output_type": "execute_result"
    }
   ],
   "source": [
    "# Dados faltantes\n",
    "total = df.isnull().sum().sort_values(ascending=False)\n",
    "porcentagem = (df.isnull().sum()/df.isnull().count()).sort_values(ascending=False)\n",
    "faltante = pd.concat([total, porcentagem], axis=1, keys=['Total', 'Porcentagem'])\n",
    "faltante.head(45)"
   ]
  },
  {
   "cell_type": "markdown",
   "metadata": {},
   "source": [
    "* Não há dados faltantes."
   ]
  },
  {
   "cell_type": "code",
   "execution_count": 11,
   "metadata": {},
   "outputs": [
    {
     "data": {
      "text/plain": [
       "['Telégrafo', 'TeleVenda', 'Porta a Porta']"
      ]
     },
     "execution_count": 11,
     "metadata": {},
     "output_type": "execute_result"
    }
   ],
   "source": [
    "# Lista dos canais de venda\n",
    "df['Canal de Venda'].unique().tolist()"
   ]
  },
  {
   "cell_type": "code",
   "execution_count": 12,
   "metadata": {},
   "outputs": [
    {
     "data": {
      "text/plain": [
       "['Mindscape', 'Arena', 'Vast', 'Ellipsis']"
      ]
     },
     "execution_count": 12,
     "metadata": {},
     "output_type": "execute_result"
    }
   ],
   "source": [
    "# Lista dos locais de venda\n",
    "df['Local de Venda'].unique().tolist()"
   ]
  },
  {
   "cell_type": "code",
   "execution_count": 17,
   "metadata": {},
   "outputs": [
    {
     "name": "stdout",
     "output_type": "stream",
     "text": [
      "Início do período em análise: 2016-11-01 00:00:00.\n",
      "Fim do período em análise: 2017-04-01 00:00:00.\n"
     ]
    }
   ],
   "source": [
    "# Período dos dados\n",
    "print(f\"Início do período em análise: {df['Data Venda'].min()}.\")\n",
    "print(f\"Fim do período em análise: {df['Data Venda'].max()}.\")"
   ]
  },
  {
   "cell_type": "markdown",
   "metadata": {},
   "source": [
    "## 4. Perguntas\n",
    "[Retorna à Tabela de conteúdo](#Tabela-de-conteúdo)"
   ]
  },
  {
   "cell_type": "markdown",
   "metadata": {},
   "source": [
    "### 1. Faça um ranking para o número total de PAX por dia da semana.\n",
    "[Retorna à Tabela de conteúdo](#Tabela-de-conteúdo)"
   ]
  },
  {
   "cell_type": "code",
   "execution_count": 114,
   "metadata": {},
   "outputs": [],
   "source": [
    "# Cópia do dataframe\n",
    "df_ = df.copy()"
   ]
  },
  {
   "cell_type": "code",
   "execution_count": 115,
   "metadata": {},
   "outputs": [],
   "source": [
    "# Cria dia da semana\n",
    "df_['dia_semana'] = df_['Data Venda'].dt.day_name()"
   ]
  },
  {
   "cell_type": "code",
   "execution_count": 116,
   "metadata": {},
   "outputs": [],
   "source": [
    "# en --> pt\n",
    "df_.loc[df_['dia_semana'] == 'Monday', 'dia_semana'] = 'segunda-feira'\n",
    "df_.loc[df_['dia_semana'] == 'Tuesday', 'dia_semana'] = 'terça-feira'\n",
    "df_.loc[df_['dia_semana'] == 'Wednesday', 'dia_semana'] = 'quarta-feira'\n",
    "df_.loc[df_['dia_semana'] == 'Thursday', 'dia_semana'] = 'quinta-feira'\n",
    "df_.loc[df_['dia_semana'] == 'Friday', 'dia_semana'] = 'sexta-feira'\n",
    "df_.loc[df_['dia_semana'] == 'Saturday', 'dia_semana'] = 'sábado'\n",
    "df_.loc[df_['dia_semana'] == 'Sunday', 'dia_semana'] = 'domingo'"
   ]
  },
  {
   "cell_type": "code",
   "execution_count": 117,
   "metadata": {},
   "outputs": [
    {
     "data": {
      "text/html": [
       "<div>\n",
       "<style scoped>\n",
       "    .dataframe tbody tr th:only-of-type {\n",
       "        vertical-align: middle;\n",
       "    }\n",
       "\n",
       "    .dataframe tbody tr th {\n",
       "        vertical-align: top;\n",
       "    }\n",
       "\n",
       "    .dataframe thead th {\n",
       "        text-align: right;\n",
       "    }\n",
       "</style>\n",
       "<table border=\"1\" class=\"dataframe\">\n",
       "  <thead>\n",
       "    <tr style=\"text-align: right;\">\n",
       "      <th></th>\n",
       "      <th>Data Venda</th>\n",
       "      <th>Canal de Venda</th>\n",
       "      <th>Local de Venda</th>\n",
       "      <th>PAX</th>\n",
       "      <th>Monetário Vendido</th>\n",
       "      <th>RPK</th>\n",
       "      <th>dia_semana</th>\n",
       "    </tr>\n",
       "  </thead>\n",
       "  <tbody>\n",
       "    <tr>\n",
       "      <th>16</th>\n",
       "      <td>2016-11-02</td>\n",
       "      <td>TeleVenda</td>\n",
       "      <td>Ellipsis</td>\n",
       "      <td>1007</td>\n",
       "      <td>29177.233024</td>\n",
       "      <td>54696</td>\n",
       "      <td>quarta-feira</td>\n",
       "    </tr>\n",
       "    <tr>\n",
       "      <th>2431</th>\n",
       "      <td>2017-04-01</td>\n",
       "      <td>Telégrafo</td>\n",
       "      <td>Vast</td>\n",
       "      <td>61</td>\n",
       "      <td>2911.981488</td>\n",
       "      <td>3050</td>\n",
       "      <td>sábado</td>\n",
       "    </tr>\n",
       "    <tr>\n",
       "      <th>1083</th>\n",
       "      <td>2017-01-07</td>\n",
       "      <td>TeleVenda</td>\n",
       "      <td>Arena</td>\n",
       "      <td>1988</td>\n",
       "      <td>73393.342549</td>\n",
       "      <td>294170</td>\n",
       "      <td>sábado</td>\n",
       "    </tr>\n",
       "    <tr>\n",
       "      <th>1766</th>\n",
       "      <td>2017-02-19</td>\n",
       "      <td>Porta a Porta</td>\n",
       "      <td>Mindscape</td>\n",
       "      <td>1774</td>\n",
       "      <td>43890.144663</td>\n",
       "      <td>208521</td>\n",
       "      <td>domingo</td>\n",
       "    </tr>\n",
       "    <tr>\n",
       "      <th>1728</th>\n",
       "      <td>2017-02-17</td>\n",
       "      <td>Porta a Porta</td>\n",
       "      <td>Vast</td>\n",
       "      <td>1052</td>\n",
       "      <td>27193.584274</td>\n",
       "      <td>50576</td>\n",
       "      <td>sexta-feira</td>\n",
       "    </tr>\n",
       "  </tbody>\n",
       "</table>\n",
       "</div>"
      ],
      "text/plain": [
       "     Data Venda Canal de Venda Local de Venda   PAX  Monetário Vendido  \\\n",
       "16   2016-11-02      TeleVenda       Ellipsis  1007       29177.233024   \n",
       "2431 2017-04-01      Telégrafo           Vast    61        2911.981488   \n",
       "1083 2017-01-07      TeleVenda          Arena  1988       73393.342549   \n",
       "1766 2017-02-19  Porta a Porta      Mindscape  1774       43890.144663   \n",
       "1728 2017-02-17  Porta a Porta           Vast  1052       27193.584274   \n",
       "\n",
       "         RPK    dia_semana  \n",
       "16     54696  quarta-feira  \n",
       "2431    3050        sábado  \n",
       "1083  294170        sábado  \n",
       "1766  208521       domingo  \n",
       "1728   50576   sexta-feira  "
      ]
     },
     "execution_count": 117,
     "metadata": {},
     "output_type": "execute_result"
    }
   ],
   "source": [
    "df_.sample(5)"
   ]
  },
  {
   "cell_type": "code",
   "execution_count": 118,
   "metadata": {},
   "outputs": [
    {
     "data": {
      "text/plain": [
       "dia_semana\n",
       "quarta-feira     293025\n",
       "quinta-feira     258488\n",
       "sexta-feira      255625\n",
       "sábado           253467\n",
       "domingo          241620\n",
       "segunda-feira    236316\n",
       "terça-feira      219802\n",
       "Name: PAX, dtype: int64"
      ]
     },
     "execution_count": 118,
     "metadata": {},
     "output_type": "execute_result"
    }
   ],
   "source": [
    "x = df_.groupby(by='dia_semana')['PAX'].sum().sort_values(ascending=False)\n",
    "x"
   ]
  },
  {
   "cell_type": "markdown",
   "metadata": {},
   "source": [
    "* O dia com maior número de passageiros, em todo período, é quarta-feira."
   ]
  },
  {
   "cell_type": "code",
   "execution_count": 119,
   "metadata": {},
   "outputs": [
    {
     "data": {
      "text/html": [
       "<div>\n",
       "<style scoped>\n",
       "    .dataframe tbody tr th:only-of-type {\n",
       "        vertical-align: middle;\n",
       "    }\n",
       "\n",
       "    .dataframe tbody tr th {\n",
       "        vertical-align: top;\n",
       "    }\n",
       "\n",
       "    .dataframe thead tr th {\n",
       "        text-align: left;\n",
       "    }\n",
       "\n",
       "    .dataframe thead tr:last-of-type th {\n",
       "        text-align: right;\n",
       "    }\n",
       "</style>\n",
       "<table border=\"1\" class=\"dataframe\">\n",
       "  <thead>\n",
       "    <tr>\n",
       "      <th></th>\n",
       "      <th>PAX</th>\n",
       "    </tr>\n",
       "    <tr>\n",
       "      <th></th>\n",
       "      <th>sum</th>\n",
       "    </tr>\n",
       "    <tr>\n",
       "      <th>dia_semana</th>\n",
       "      <th></th>\n",
       "    </tr>\n",
       "  </thead>\n",
       "  <tbody>\n",
       "    <tr>\n",
       "      <th>domingo</th>\n",
       "      <td>241620</td>\n",
       "    </tr>\n",
       "    <tr>\n",
       "      <th>quarta-feira</th>\n",
       "      <td>293025</td>\n",
       "    </tr>\n",
       "    <tr>\n",
       "      <th>quinta-feira</th>\n",
       "      <td>258488</td>\n",
       "    </tr>\n",
       "    <tr>\n",
       "      <th>segunda-feira</th>\n",
       "      <td>236316</td>\n",
       "    </tr>\n",
       "    <tr>\n",
       "      <th>sexta-feira</th>\n",
       "      <td>255625</td>\n",
       "    </tr>\n",
       "    <tr>\n",
       "      <th>sábado</th>\n",
       "      <td>253467</td>\n",
       "    </tr>\n",
       "    <tr>\n",
       "      <th>terça-feira</th>\n",
       "      <td>219802</td>\n",
       "    </tr>\n",
       "  </tbody>\n",
       "</table>\n",
       "</div>"
      ],
      "text/plain": [
       "                  PAX\n",
       "                  sum\n",
       "dia_semana           \n",
       "domingo        241620\n",
       "quarta-feira   293025\n",
       "quinta-feira   258488\n",
       "segunda-feira  236316\n",
       "sexta-feira    255625\n",
       "sábado         253467\n",
       "terça-feira    219802"
      ]
     },
     "execution_count": 119,
     "metadata": {},
     "output_type": "execute_result"
    }
   ],
   "source": [
    "pax_dia = df_.groupby('dia_semana').agg({'PAX': ['sum']})\n",
    "pax_dia"
   ]
  },
  {
   "cell_type": "markdown",
   "metadata": {},
   "source": [
    "### 2. Qual a correlação de sábado e domingo somados com o total de RPK?\n",
    "[Retorna à Tabela de conteúdo](#Tabela-de-conteúdo)"
   ]
  },
  {
   "cell_type": "code",
   "execution_count": 121,
   "metadata": {},
   "outputs": [],
   "source": [
    "# Dia da semana: segunda-feira == 0; domingo == 6\n",
    "df_['dia_semana_num'] = df_['Data Venda'].dt.dayofweek"
   ]
  },
  {
   "cell_type": "code",
   "execution_count": 122,
   "metadata": {},
   "outputs": [
    {
     "data": {
      "text/html": [
       "<div>\n",
       "<style scoped>\n",
       "    .dataframe tbody tr th:only-of-type {\n",
       "        vertical-align: middle;\n",
       "    }\n",
       "\n",
       "    .dataframe tbody tr th {\n",
       "        vertical-align: top;\n",
       "    }\n",
       "\n",
       "    .dataframe thead th {\n",
       "        text-align: right;\n",
       "    }\n",
       "</style>\n",
       "<table border=\"1\" class=\"dataframe\">\n",
       "  <thead>\n",
       "    <tr style=\"text-align: right;\">\n",
       "      <th></th>\n",
       "      <th>Data Venda</th>\n",
       "      <th>Canal de Venda</th>\n",
       "      <th>Local de Venda</th>\n",
       "      <th>PAX</th>\n",
       "      <th>Monetário Vendido</th>\n",
       "      <th>RPK</th>\n",
       "      <th>dia_semana</th>\n",
       "      <th>dia_semana_num</th>\n",
       "    </tr>\n",
       "  </thead>\n",
       "  <tbody>\n",
       "    <tr>\n",
       "      <th>2004</th>\n",
       "      <td>2017-03-06</td>\n",
       "      <td>Porta a Porta</td>\n",
       "      <td>Arena</td>\n",
       "      <td>1133</td>\n",
       "      <td>38691.351623</td>\n",
       "      <td>157987</td>\n",
       "      <td>segunda-feira</td>\n",
       "      <td>0</td>\n",
       "    </tr>\n",
       "    <tr>\n",
       "      <th>1315</th>\n",
       "      <td>2017-01-22</td>\n",
       "      <td>Porta a Porta</td>\n",
       "      <td>Ellipsis</td>\n",
       "      <td>636</td>\n",
       "      <td>20063.679977</td>\n",
       "      <td>35053</td>\n",
       "      <td>domingo</td>\n",
       "      <td>6</td>\n",
       "    </tr>\n",
       "    <tr>\n",
       "      <th>1897</th>\n",
       "      <td>2017-02-27</td>\n",
       "      <td>TeleVenda</td>\n",
       "      <td>Arena</td>\n",
       "      <td>1355</td>\n",
       "      <td>38592.633873</td>\n",
       "      <td>198075</td>\n",
       "      <td>segunda-feira</td>\n",
       "      <td>0</td>\n",
       "    </tr>\n",
       "  </tbody>\n",
       "</table>\n",
       "</div>"
      ],
      "text/plain": [
       "     Data Venda Canal de Venda Local de Venda   PAX  Monetário Vendido  \\\n",
       "2004 2017-03-06  Porta a Porta          Arena  1133       38691.351623   \n",
       "1315 2017-01-22  Porta a Porta       Ellipsis   636       20063.679977   \n",
       "1897 2017-02-27      TeleVenda          Arena  1355       38592.633873   \n",
       "\n",
       "         RPK     dia_semana  dia_semana_num  \n",
       "2004  157987  segunda-feira               0  \n",
       "1315   35053        domingo               6  \n",
       "1897  198075  segunda-feira               0  "
      ]
     },
     "execution_count": 122,
     "metadata": {},
     "output_type": "execute_result"
    }
   ],
   "source": [
    "df_.sample(3)"
   ]
  },
  {
   "cell_type": "code",
   "execution_count": 124,
   "metadata": {},
   "outputs": [
    {
     "data": {
      "text/html": [
       "<div>\n",
       "<style scoped>\n",
       "    .dataframe tbody tr th:only-of-type {\n",
       "        vertical-align: middle;\n",
       "    }\n",
       "\n",
       "    .dataframe tbody tr th {\n",
       "        vertical-align: top;\n",
       "    }\n",
       "\n",
       "    .dataframe thead th {\n",
       "        text-align: right;\n",
       "    }\n",
       "</style>\n",
       "<table border=\"1\" class=\"dataframe\">\n",
       "  <thead>\n",
       "    <tr style=\"text-align: right;\">\n",
       "      <th></th>\n",
       "      <th>RPK</th>\n",
       "      <th>dia_semana_num</th>\n",
       "    </tr>\n",
       "  </thead>\n",
       "  <tbody>\n",
       "    <tr>\n",
       "      <th>RPK</th>\n",
       "      <td>1.000000</td>\n",
       "      <td>0.000134</td>\n",
       "    </tr>\n",
       "    <tr>\n",
       "      <th>dia_semana_num</th>\n",
       "      <td>0.000134</td>\n",
       "      <td>1.000000</td>\n",
       "    </tr>\n",
       "  </tbody>\n",
       "</table>\n",
       "</div>"
      ],
      "text/plain": [
       "                     RPK  dia_semana_num\n",
       "RPK             1.000000        0.000134\n",
       "dia_semana_num  0.000134        1.000000"
      ]
     },
     "execution_count": 124,
     "metadata": {},
     "output_type": "execute_result"
    }
   ],
   "source": [
    "df_[['RPK', 'dia_semana_num']].corr()"
   ]
  },
  {
   "cell_type": "code",
   "execution_count": null,
   "metadata": {},
   "outputs": [],
   "source": []
  },
  {
   "cell_type": "code",
   "execution_count": 141,
   "metadata": {},
   "outputs": [
    {
     "data": {
      "text/html": [
       "<div>\n",
       "<style scoped>\n",
       "    .dataframe tbody tr th:only-of-type {\n",
       "        vertical-align: middle;\n",
       "    }\n",
       "\n",
       "    .dataframe tbody tr th {\n",
       "        vertical-align: top;\n",
       "    }\n",
       "\n",
       "    .dataframe thead tr th {\n",
       "        text-align: left;\n",
       "    }\n",
       "\n",
       "    .dataframe thead tr:last-of-type th {\n",
       "        text-align: right;\n",
       "    }\n",
       "</style>\n",
       "<table border=\"1\" class=\"dataframe\">\n",
       "  <thead>\n",
       "    <tr>\n",
       "      <th></th>\n",
       "      <th>RPK</th>\n",
       "    </tr>\n",
       "    <tr>\n",
       "      <th></th>\n",
       "      <th>sum</th>\n",
       "    </tr>\n",
       "    <tr>\n",
       "      <th>dia_semana_num</th>\n",
       "      <th></th>\n",
       "    </tr>\n",
       "  </thead>\n",
       "  <tbody>\n",
       "    <tr>\n",
       "      <th>0</th>\n",
       "      <td>23275908</td>\n",
       "    </tr>\n",
       "    <tr>\n",
       "      <th>1</th>\n",
       "      <td>20366840</td>\n",
       "    </tr>\n",
       "    <tr>\n",
       "      <th>2</th>\n",
       "      <td>26263705</td>\n",
       "    </tr>\n",
       "    <tr>\n",
       "      <th>3</th>\n",
       "      <td>23501102</td>\n",
       "    </tr>\n",
       "    <tr>\n",
       "      <th>4</th>\n",
       "      <td>23309936</td>\n",
       "    </tr>\n",
       "    <tr>\n",
       "      <th>5</th>\n",
       "      <td>23201577</td>\n",
       "    </tr>\n",
       "    <tr>\n",
       "      <th>6</th>\n",
       "      <td>22388695</td>\n",
       "    </tr>\n",
       "  </tbody>\n",
       "</table>\n",
       "</div>"
      ],
      "text/plain": [
       "                     RPK\n",
       "                     sum\n",
       "dia_semana_num          \n",
       "0               23275908\n",
       "1               20366840\n",
       "2               26263705\n",
       "3               23501102\n",
       "4               23309936\n",
       "5               23201577\n",
       "6               22388695"
      ]
     },
     "execution_count": 141,
     "metadata": {},
     "output_type": "execute_result"
    }
   ],
   "source": [
    "q = df_.groupby('dia_semana_num').agg({'RPK': ['sum']})\n",
    "q"
   ]
  },
  {
   "cell_type": "code",
   "execution_count": null,
   "metadata": {},
   "outputs": [],
   "source": []
  },
  {
   "cell_type": "code",
   "execution_count": null,
   "metadata": {},
   "outputs": [],
   "source": []
  },
  {
   "cell_type": "code",
   "execution_count": null,
   "metadata": {},
   "outputs": [],
   "source": []
  },
  {
   "cell_type": "markdown",
   "metadata": {},
   "source": [
    "### 3. Qual a média de ‘Monetário’ por mês por Canal? E a mediana?\n",
    "[Retorna à Tabela de conteúdo](#Tabela-de-conteúdo)"
   ]
  },
  {
   "cell_type": "code",
   "execution_count": 146,
   "metadata": {},
   "outputs": [],
   "source": [
    "# Coluna 'mês'\n",
    "df_['mês'] = df['Data Venda'].dt.month"
   ]
  },
  {
   "cell_type": "code",
   "execution_count": 147,
   "metadata": {},
   "outputs": [
    {
     "data": {
      "text/html": [
       "<div>\n",
       "<style scoped>\n",
       "    .dataframe tbody tr th:only-of-type {\n",
       "        vertical-align: middle;\n",
       "    }\n",
       "\n",
       "    .dataframe tbody tr th {\n",
       "        vertical-align: top;\n",
       "    }\n",
       "\n",
       "    .dataframe thead th {\n",
       "        text-align: right;\n",
       "    }\n",
       "</style>\n",
       "<table border=\"1\" class=\"dataframe\">\n",
       "  <thead>\n",
       "    <tr style=\"text-align: right;\">\n",
       "      <th></th>\n",
       "      <th>Data Venda</th>\n",
       "      <th>Canal de Venda</th>\n",
       "      <th>Local de Venda</th>\n",
       "      <th>PAX</th>\n",
       "      <th>Monetário Vendido</th>\n",
       "      <th>RPK</th>\n",
       "      <th>dia_semana</th>\n",
       "      <th>dia_semana_num</th>\n",
       "      <th>mês</th>\n",
       "    </tr>\n",
       "  </thead>\n",
       "  <tbody>\n",
       "    <tr>\n",
       "      <th>1828</th>\n",
       "      <td>2017-02-23</td>\n",
       "      <td>Telégrafo</td>\n",
       "      <td>Ellipsis</td>\n",
       "      <td>61</td>\n",
       "      <td>2372.902848</td>\n",
       "      <td>3427</td>\n",
       "      <td>quinta-feira</td>\n",
       "      <td>3</td>\n",
       "      <td>2</td>\n",
       "    </tr>\n",
       "    <tr>\n",
       "      <th>81</th>\n",
       "      <td>2016-11-06</td>\n",
       "      <td>Porta a Porta</td>\n",
       "      <td>Arena</td>\n",
       "      <td>1078</td>\n",
       "      <td>50722.959127</td>\n",
       "      <td>147535</td>\n",
       "      <td>domingo</td>\n",
       "      <td>6</td>\n",
       "      <td>11</td>\n",
       "    </tr>\n",
       "    <tr>\n",
       "      <th>150</th>\n",
       "      <td>2016-11-10</td>\n",
       "      <td>TeleVenda</td>\n",
       "      <td>Mindscape</td>\n",
       "      <td>124</td>\n",
       "      <td>8177.826736</td>\n",
       "      <td>15080</td>\n",
       "      <td>quinta-feira</td>\n",
       "      <td>3</td>\n",
       "      <td>11</td>\n",
       "    </tr>\n",
       "    <tr>\n",
       "      <th>857</th>\n",
       "      <td>2016-12-24</td>\n",
       "      <td>TeleVenda</td>\n",
       "      <td>Arena</td>\n",
       "      <td>186</td>\n",
       "      <td>14147.785011</td>\n",
       "      <td>29776</td>\n",
       "      <td>sábado</td>\n",
       "      <td>5</td>\n",
       "      <td>12</td>\n",
       "    </tr>\n",
       "    <tr>\n",
       "      <th>58</th>\n",
       "      <td>2016-11-04</td>\n",
       "      <td>TeleVenda</td>\n",
       "      <td>Mindscape</td>\n",
       "      <td>112</td>\n",
       "      <td>8420.150405</td>\n",
       "      <td>13803</td>\n",
       "      <td>sexta-feira</td>\n",
       "      <td>4</td>\n",
       "      <td>11</td>\n",
       "    </tr>\n",
       "  </tbody>\n",
       "</table>\n",
       "</div>"
      ],
      "text/plain": [
       "     Data Venda Canal de Venda Local de Venda   PAX  Monetário Vendido  \\\n",
       "1828 2017-02-23      Telégrafo       Ellipsis    61        2372.902848   \n",
       "81   2016-11-06  Porta a Porta          Arena  1078       50722.959127   \n",
       "150  2016-11-10      TeleVenda      Mindscape   124        8177.826736   \n",
       "857  2016-12-24      TeleVenda          Arena   186       14147.785011   \n",
       "58   2016-11-04      TeleVenda      Mindscape   112        8420.150405   \n",
       "\n",
       "         RPK    dia_semana  dia_semana_num  mês  \n",
       "1828    3427  quinta-feira               3    2  \n",
       "81    147535       domingo               6   11  \n",
       "150    15080  quinta-feira               3   11  \n",
       "857    29776        sábado               5   12  \n",
       "58     13803   sexta-feira               4   11  "
      ]
     },
     "execution_count": 147,
     "metadata": {},
     "output_type": "execute_result"
    }
   ],
   "source": [
    "df_.sample(5)"
   ]
  },
  {
   "cell_type": "code",
   "execution_count": 149,
   "metadata": {},
   "outputs": [
    {
     "data": {
      "text/html": [
       "<div>\n",
       "<style scoped>\n",
       "    .dataframe tbody tr th:only-of-type {\n",
       "        vertical-align: middle;\n",
       "    }\n",
       "\n",
       "    .dataframe tbody tr th {\n",
       "        vertical-align: top;\n",
       "    }\n",
       "\n",
       "    .dataframe thead tr th {\n",
       "        text-align: left;\n",
       "    }\n",
       "\n",
       "    .dataframe thead tr:last-of-type th {\n",
       "        text-align: right;\n",
       "    }\n",
       "</style>\n",
       "<table border=\"1\" class=\"dataframe\">\n",
       "  <thead>\n",
       "    <tr>\n",
       "      <th></th>\n",
       "      <th colspan=\"2\" halign=\"left\">Monetário Vendido</th>\n",
       "    </tr>\n",
       "    <tr>\n",
       "      <th></th>\n",
       "      <th>mean</th>\n",
       "      <th>median</th>\n",
       "    </tr>\n",
       "    <tr>\n",
       "      <th>Canal de Venda</th>\n",
       "      <th></th>\n",
       "      <th></th>\n",
       "    </tr>\n",
       "  </thead>\n",
       "  <tbody>\n",
       "    <tr>\n",
       "      <th>Porta a Porta</th>\n",
       "      <td>31454.583113</td>\n",
       "      <td>29281.731170</td>\n",
       "    </tr>\n",
       "    <tr>\n",
       "      <th>TeleVenda</th>\n",
       "      <td>31256.502520</td>\n",
       "      <td>18574.866487</td>\n",
       "    </tr>\n",
       "    <tr>\n",
       "      <th>Telégrafo</th>\n",
       "      <td>4587.373839</td>\n",
       "      <td>4105.413682</td>\n",
       "    </tr>\n",
       "  </tbody>\n",
       "</table>\n",
       "</div>"
      ],
      "text/plain": [
       "               Monetário Vendido              \n",
       "                            mean        median\n",
       "Canal de Venda                                \n",
       "Porta a Porta       31454.583113  29281.731170\n",
       "TeleVenda           31256.502520  18574.866487\n",
       "Telégrafo            4587.373839   4105.413682"
      ]
     },
     "execution_count": 149,
     "metadata": {},
     "output_type": "execute_result"
    }
   ],
   "source": [
    "# Monerário Vendido por Canal de Venda\n",
    "df_.groupby('Canal de Venda').agg({'Monetário Vendido': ['mean', 'median']})"
   ]
  },
  {
   "cell_type": "code",
   "execution_count": 150,
   "metadata": {},
   "outputs": [
    {
     "ename": "ValueError",
     "evalue": "Grouper and axis must be same length",
     "output_type": "error",
     "traceback": [
      "\u001b[0;31m---------------------------------------------------------------------------\u001b[0m",
      "\u001b[0;31mValueError\u001b[0m                                Traceback (most recent call last)",
      "\u001b[0;32m<ipython-input-150-d7d14fabdee2>\u001b[0m in \u001b[0;36m<module>\u001b[0;34m\u001b[0m\n\u001b[0;32m----> 1\u001b[0;31m \u001b[0mdf_\u001b[0m\u001b[0;34m.\u001b[0m\u001b[0mgroupby\u001b[0m\u001b[0;34m(\u001b[0m\u001b[0;34m[\u001b[0m\u001b[0;34m[\u001b[0m\u001b[0;34m'Canal de Venda'\u001b[0m\u001b[0;34m,\u001b[0m \u001b[0;34m'mês'\u001b[0m\u001b[0;34m]\u001b[0m\u001b[0;34m]\u001b[0m\u001b[0;34m)\u001b[0m\u001b[0;34m.\u001b[0m\u001b[0magg\u001b[0m\u001b[0;34m(\u001b[0m\u001b[0;34m{\u001b[0m\u001b[0;34m'Monetário Vendido'\u001b[0m\u001b[0;34m:\u001b[0m \u001b[0;34m[\u001b[0m\u001b[0;34m'mean'\u001b[0m\u001b[0;34m,\u001b[0m \u001b[0;34m'median'\u001b[0m\u001b[0;34m]\u001b[0m\u001b[0;34m}\u001b[0m\u001b[0;34m)\u001b[0m\u001b[0;34m\u001b[0m\u001b[0;34m\u001b[0m\u001b[0m\n\u001b[0m",
      "\u001b[0;32m~/.local/lib/python3.6/site-packages/pandas/core/frame.py\u001b[0m in \u001b[0;36mgroupby\u001b[0;34m(self, by, axis, level, as_index, sort, group_keys, squeeze, observed, dropna)\u001b[0m\n\u001b[1;32m   6523\u001b[0m             \u001b[0msqueeze\u001b[0m\u001b[0;34m=\u001b[0m\u001b[0msqueeze\u001b[0m\u001b[0;34m,\u001b[0m\u001b[0;34m\u001b[0m\u001b[0;34m\u001b[0m\u001b[0m\n\u001b[1;32m   6524\u001b[0m             \u001b[0mobserved\u001b[0m\u001b[0;34m=\u001b[0m\u001b[0mobserved\u001b[0m\u001b[0;34m,\u001b[0m\u001b[0;34m\u001b[0m\u001b[0;34m\u001b[0m\u001b[0m\n\u001b[0;32m-> 6525\u001b[0;31m             \u001b[0mdropna\u001b[0m\u001b[0;34m=\u001b[0m\u001b[0mdropna\u001b[0m\u001b[0;34m,\u001b[0m\u001b[0;34m\u001b[0m\u001b[0;34m\u001b[0m\u001b[0m\n\u001b[0m\u001b[1;32m   6526\u001b[0m         )\n\u001b[1;32m   6527\u001b[0m \u001b[0;34m\u001b[0m\u001b[0m\n",
      "\u001b[0;32m~/.local/lib/python3.6/site-packages/pandas/core/groupby/groupby.py\u001b[0m in \u001b[0;36m__init__\u001b[0;34m(self, obj, keys, axis, level, grouper, exclusions, selection, as_index, sort, group_keys, squeeze, observed, mutated, dropna)\u001b[0m\n\u001b[1;32m    531\u001b[0m                 \u001b[0mobserved\u001b[0m\u001b[0;34m=\u001b[0m\u001b[0mobserved\u001b[0m\u001b[0;34m,\u001b[0m\u001b[0;34m\u001b[0m\u001b[0;34m\u001b[0m\u001b[0m\n\u001b[1;32m    532\u001b[0m                 \u001b[0mmutated\u001b[0m\u001b[0;34m=\u001b[0m\u001b[0mself\u001b[0m\u001b[0;34m.\u001b[0m\u001b[0mmutated\u001b[0m\u001b[0;34m,\u001b[0m\u001b[0;34m\u001b[0m\u001b[0;34m\u001b[0m\u001b[0m\n\u001b[0;32m--> 533\u001b[0;31m                 \u001b[0mdropna\u001b[0m\u001b[0;34m=\u001b[0m\u001b[0mself\u001b[0m\u001b[0;34m.\u001b[0m\u001b[0mdropna\u001b[0m\u001b[0;34m,\u001b[0m\u001b[0;34m\u001b[0m\u001b[0;34m\u001b[0m\u001b[0m\n\u001b[0m\u001b[1;32m    534\u001b[0m             )\n\u001b[1;32m    535\u001b[0m \u001b[0;34m\u001b[0m\u001b[0m\n",
      "\u001b[0;32m~/.local/lib/python3.6/site-packages/pandas/core/groupby/grouper.py\u001b[0m in \u001b[0;36mget_grouper\u001b[0;34m(obj, key, axis, level, sort, observed, mutated, validate, dropna)\u001b[0m\n\u001b[1;32m    812\u001b[0m                 \u001b[0mdropna\u001b[0m\u001b[0;34m=\u001b[0m\u001b[0mdropna\u001b[0m\u001b[0;34m,\u001b[0m\u001b[0;34m\u001b[0m\u001b[0;34m\u001b[0m\u001b[0m\n\u001b[1;32m    813\u001b[0m             )\n\u001b[0;32m--> 814\u001b[0;31m             \u001b[0;32mif\u001b[0m \u001b[0;32mnot\u001b[0m \u001b[0misinstance\u001b[0m\u001b[0;34m(\u001b[0m\u001b[0mgpr\u001b[0m\u001b[0;34m,\u001b[0m \u001b[0mGrouping\u001b[0m\u001b[0;34m)\u001b[0m\u001b[0;34m\u001b[0m\u001b[0;34m\u001b[0m\u001b[0m\n\u001b[0m\u001b[1;32m    815\u001b[0m             \u001b[0;32melse\u001b[0m \u001b[0mgpr\u001b[0m\u001b[0;34m\u001b[0m\u001b[0;34m\u001b[0m\u001b[0m\n\u001b[1;32m    816\u001b[0m         )\n",
      "\u001b[0;32m~/.local/lib/python3.6/site-packages/pandas/core/groupby/grouper.py\u001b[0m in \u001b[0;36m__init__\u001b[0;34m(self, index, grouper, obj, name, level, sort, observed, in_axis, dropna)\u001b[0m\n\u001b[1;32m    425\u001b[0m         \u001b[0mself\u001b[0m\u001b[0;34m.\u001b[0m\u001b[0mname\u001b[0m \u001b[0;34m=\u001b[0m \u001b[0mname\u001b[0m\u001b[0;34m\u001b[0m\u001b[0;34m\u001b[0m\u001b[0m\n\u001b[1;32m    426\u001b[0m         \u001b[0mself\u001b[0m\u001b[0;34m.\u001b[0m\u001b[0mlevel\u001b[0m \u001b[0;34m=\u001b[0m \u001b[0mlevel\u001b[0m\u001b[0;34m\u001b[0m\u001b[0;34m\u001b[0m\u001b[0m\n\u001b[0;32m--> 427\u001b[0;31m         \u001b[0mself\u001b[0m\u001b[0;34m.\u001b[0m\u001b[0mgrouper\u001b[0m \u001b[0;34m=\u001b[0m \u001b[0m_convert_grouper\u001b[0m\u001b[0;34m(\u001b[0m\u001b[0mindex\u001b[0m\u001b[0;34m,\u001b[0m \u001b[0mgrouper\u001b[0m\u001b[0;34m)\u001b[0m\u001b[0;34m\u001b[0m\u001b[0;34m\u001b[0m\u001b[0m\n\u001b[0m\u001b[1;32m    428\u001b[0m         \u001b[0mself\u001b[0m\u001b[0;34m.\u001b[0m\u001b[0mall_grouper\u001b[0m \u001b[0;34m=\u001b[0m \u001b[0;32mNone\u001b[0m\u001b[0;34m\u001b[0m\u001b[0;34m\u001b[0m\u001b[0m\n\u001b[1;32m    429\u001b[0m         \u001b[0mself\u001b[0m\u001b[0;34m.\u001b[0m\u001b[0mindex\u001b[0m \u001b[0;34m=\u001b[0m \u001b[0mindex\u001b[0m\u001b[0;34m\u001b[0m\u001b[0;34m\u001b[0m\u001b[0m\n",
      "\u001b[0;32m~/.local/lib/python3.6/site-packages/pandas/core/groupby/grouper.py\u001b[0m in \u001b[0;36m_convert_grouper\u001b[0;34m(axis, grouper)\u001b[0m\n\u001b[1;32m    842\u001b[0m     \u001b[0;32melif\u001b[0m \u001b[0misinstance\u001b[0m\u001b[0;34m(\u001b[0m\u001b[0mgrouper\u001b[0m\u001b[0;34m,\u001b[0m \u001b[0;34m(\u001b[0m\u001b[0mlist\u001b[0m\u001b[0;34m,\u001b[0m \u001b[0mSeries\u001b[0m\u001b[0;34m,\u001b[0m \u001b[0mIndex\u001b[0m\u001b[0;34m,\u001b[0m \u001b[0mnp\u001b[0m\u001b[0;34m.\u001b[0m\u001b[0mndarray\u001b[0m\u001b[0;34m)\u001b[0m\u001b[0;34m)\u001b[0m\u001b[0;34m:\u001b[0m\u001b[0;34m\u001b[0m\u001b[0;34m\u001b[0m\u001b[0m\n\u001b[1;32m    843\u001b[0m         \u001b[0;32mif\u001b[0m \u001b[0mlen\u001b[0m\u001b[0;34m(\u001b[0m\u001b[0mgrouper\u001b[0m\u001b[0;34m)\u001b[0m \u001b[0;34m!=\u001b[0m \u001b[0mlen\u001b[0m\u001b[0;34m(\u001b[0m\u001b[0maxis\u001b[0m\u001b[0;34m)\u001b[0m\u001b[0;34m:\u001b[0m\u001b[0;34m\u001b[0m\u001b[0;34m\u001b[0m\u001b[0m\n\u001b[0;32m--> 844\u001b[0;31m             \u001b[0;32mraise\u001b[0m \u001b[0mValueError\u001b[0m\u001b[0;34m(\u001b[0m\u001b[0;34m\"Grouper and axis must be same length\"\u001b[0m\u001b[0;34m)\u001b[0m\u001b[0;34m\u001b[0m\u001b[0;34m\u001b[0m\u001b[0m\n\u001b[0m\u001b[1;32m    845\u001b[0m         \u001b[0;32mreturn\u001b[0m \u001b[0mgrouper\u001b[0m\u001b[0;34m\u001b[0m\u001b[0;34m\u001b[0m\u001b[0m\n\u001b[1;32m    846\u001b[0m     \u001b[0;32melse\u001b[0m\u001b[0;34m:\u001b[0m\u001b[0;34m\u001b[0m\u001b[0;34m\u001b[0m\u001b[0m\n",
      "\u001b[0;31mValueError\u001b[0m: Grouper and axis must be same length"
     ]
    }
   ],
   "source": [
    "df_.groupby([['Canal de Venda', 'mês']]).agg({'Monetário Vendido': ['mean', 'median']})"
   ]
  },
  {
   "cell_type": "code",
   "execution_count": null,
   "metadata": {},
   "outputs": [],
   "source": []
  },
  {
   "cell_type": "code",
   "execution_count": null,
   "metadata": {},
   "outputs": [],
   "source": []
  },
  {
   "cell_type": "code",
   "execution_count": null,
   "metadata": {},
   "outputs": [],
   "source": []
  },
  {
   "cell_type": "code",
   "execution_count": null,
   "metadata": {},
   "outputs": [],
   "source": []
  },
  {
   "cell_type": "markdown",
   "metadata": {},
   "source": [
    "### 4. Crie um forecast de PAX por ‘Local de Venda’ para os próximos 15 dias a contar da última data de venda.\n",
    "[Retorna à Tabela de conteúdo](#Tabela-de-conteúdo)"
   ]
  },
  {
   "cell_type": "markdown",
   "metadata": {},
   "source": [
    "### 5. Supondo que você precisa gerar um estudo para a área responsável, com base em qualquer modelo ou premissa, qual ‘Local de Venda’ você considera mais crítico. Por quê?\n",
    "[Retorna à Tabela de conteúdo](#Tabela-de-conteúdo)"
   ]
  },
  {
   "cell_type": "markdown",
   "metadata": {},
   "source": [
    "### 6. Criar modelo relacionando o comportamento de venda com variáveis não apresentadas nos dados (Ex: PIB, Dolar, etc.)\n",
    "[Retorna à Tabela de conteúdo](#Tabela-de-conteúdo)"
   ]
  },
  {
   "cell_type": "code",
   "execution_count": null,
   "metadata": {},
   "outputs": [],
   "source": []
  },
  {
   "cell_type": "code",
   "execution_count": null,
   "metadata": {},
   "outputs": [],
   "source": []
  },
  {
   "cell_type": "code",
   "execution_count": null,
   "metadata": {},
   "outputs": [],
   "source": [
    "Utilizando como base de dados na aba dados , responda as seguintes perguntas:\n",
    "\n",
    "1-Faça um ranking para o número total de PAX por dia da semana.\n",
    "\n",
    "\n",
    "2-Qual a correlação de sábado e domingo somados com o total de RPK?\n",
    "\n",
    "3-Qual a média de ‘Monetário’ por mês por Canal? E a mediana?\n",
    "\n",
    "4-Crie um forecast de PAX por ‘Local de Venda’ para os próximos 15 dias a contar da última data de venda. (Aqui a técnica é livre) \n",
    "\n",
    "5-Supondo que você precisa gerar um estudo para a área responsável, com base em qualquer modelo ou premissa, qual ‘Local de Venda’ você considera mais crítico. Por quê?\n",
    "\n",
    "6-Criar modelo relacionando o comporatamento de venda com variaveis não apresentada nos dados (Ex : PIB, Dolar, e etc)\n"
   ]
  },
  {
   "cell_type": "code",
   "execution_count": null,
   "metadata": {},
   "outputs": [],
   "source": [
    "Mais do que o resultado, iremos avaliar o raciocínio e a organização de trabalho\n",
    "\n",
    "Algumas considerações:\n",
    "\n",
    "*PAX é o total de passageiros. RPK é um indicador diretamente relacionada com o número de PAX.\n",
    "*Não se atenha às grandezas. Os dados são fictícios. 😉\n",
    "*Envie todo o material que produzir (códigos, tabelas e outros arquivos) com o detalhamento de cada um. Se possível, comente nos códigos.\n",
    "*Para a apresentação, use PowerPoint ou qualquer outra ferramenta de DataViz que julgar pertinente.\n"
   ]
  },
  {
   "cell_type": "code",
   "execution_count": null,
   "metadata": {},
   "outputs": [],
   "source": []
  }
 ],
 "metadata": {
  "kernelspec": {
   "display_name": "Python 3",
   "language": "python",
   "name": "python3"
  },
  "language_info": {
   "codemirror_mode": {
    "name": "ipython",
    "version": 3
   },
   "file_extension": ".py",
   "mimetype": "text/x-python",
   "name": "python",
   "nbconvert_exporter": "python",
   "pygments_lexer": "ipython3",
   "version": "3.6.9"
  }
 },
 "nbformat": 4,
 "nbformat_minor": 4
}
